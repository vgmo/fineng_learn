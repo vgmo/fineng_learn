{
 "cells": [
  {
   "cell_type": "markdown",
   "id": "203edade",
   "metadata": {},
   "source": [
    "## Pandas DataFrame Basics"
   ]
  },
  {
   "cell_type": "code",
   "execution_count": 13,
   "id": "fdcc19e1",
   "metadata": {},
   "outputs": [],
   "source": [
    "import pandas as pd\n",
    "import numpy as np\n",
    "import matplotlib.pyplot as plt\n",
    "from ipywidgets import interactive"
   ]
  },
  {
   "cell_type": "markdown",
   "id": "2026e78f",
   "metadata": {},
   "source": [
    "### 1. Create DataFrame from Python Dictionary\n",
    "Dictionary keys -> columns of DataFrame <br />\n",
    "Dictionary values in list -> rows of DataFrame <br />\n",
    "\n",
    "    data1 = {'Name': ['John Smith'],\n",
    "            'School': ['Oregon State University']}\n",
    "\n",
    "    df1 = pd.DataFrame(data1)\n",
    "    df1.head()"
   ]
  },
  {
   "cell_type": "code",
   "execution_count": 14,
   "id": "dbd8c8e1",
   "metadata": {},
   "outputs": [
    {
     "data": {
      "text/html": [
       "<div>\n",
       "<style scoped>\n",
       "    .dataframe tbody tr th:only-of-type {\n",
       "        vertical-align: middle;\n",
       "    }\n",
       "\n",
       "    .dataframe tbody tr th {\n",
       "        vertical-align: top;\n",
       "    }\n",
       "\n",
       "    .dataframe thead th {\n",
       "        text-align: right;\n",
       "    }\n",
       "</style>\n",
       "<table border=\"1\" class=\"dataframe\">\n",
       "  <thead>\n",
       "    <tr style=\"text-align: right;\">\n",
       "      <th></th>\n",
       "      <th>Name</th>\n",
       "      <th>School</th>\n",
       "    </tr>\n",
       "  </thead>\n",
       "  <tbody>\n",
       "    <tr>\n",
       "      <th>0</th>\n",
       "      <td>John Smith</td>\n",
       "      <td>Oregon State University</td>\n",
       "    </tr>\n",
       "  </tbody>\n",
       "</table>\n",
       "</div>"
      ],
      "text/plain": [
       "         Name                   School\n",
       "0  John Smith  Oregon State University"
      ]
     },
     "execution_count": 14,
     "metadata": {},
     "output_type": "execute_result"
    }
   ],
   "source": [
    "data1 = {'Name': ['John Smith'],\n",
    "        'School': ['Oregon State University']}\n",
    "\n",
    "df1 = pd.DataFrame(data1)\n",
    "df1.head()"
   ]
  },
  {
   "cell_type": "markdown",
   "id": "ef27636d",
   "metadata": {},
   "source": [
    "    data2 = {'Date': ['10/2/2020', '11/2/2020', '12/2/2020', '13/2/2020'],\n",
    "           'Event': ['Computer Science', 'Math', 'Biology', 'Astronomy'], \n",
    "            'Cost': [10000, 5000, 15000, 2000]}\n",
    "\n",
    "    df2 = pd.DataFrame(data2)\n",
    "    df2.head(10)"
   ]
  },
  {
   "cell_type": "code",
   "execution_count": 15,
   "id": "56931f17",
   "metadata": {},
   "outputs": [
    {
     "data": {
      "text/html": [
       "<div>\n",
       "<style scoped>\n",
       "    .dataframe tbody tr th:only-of-type {\n",
       "        vertical-align: middle;\n",
       "    }\n",
       "\n",
       "    .dataframe tbody tr th {\n",
       "        vertical-align: top;\n",
       "    }\n",
       "\n",
       "    .dataframe thead th {\n",
       "        text-align: right;\n",
       "    }\n",
       "</style>\n",
       "<table border=\"1\" class=\"dataframe\">\n",
       "  <thead>\n",
       "    <tr style=\"text-align: right;\">\n",
       "      <th></th>\n",
       "      <th>Date</th>\n",
       "      <th>Event</th>\n",
       "      <th>Cost</th>\n",
       "    </tr>\n",
       "  </thead>\n",
       "  <tbody>\n",
       "    <tr>\n",
       "      <th>0</th>\n",
       "      <td>10/2/2020</td>\n",
       "      <td>Computer Science</td>\n",
       "      <td>10000</td>\n",
       "    </tr>\n",
       "    <tr>\n",
       "      <th>1</th>\n",
       "      <td>11/2/2020</td>\n",
       "      <td>Math</td>\n",
       "      <td>5000</td>\n",
       "    </tr>\n",
       "    <tr>\n",
       "      <th>2</th>\n",
       "      <td>12/2/2020</td>\n",
       "      <td>Biology</td>\n",
       "      <td>15000</td>\n",
       "    </tr>\n",
       "    <tr>\n",
       "      <th>3</th>\n",
       "      <td>13/2/2020</td>\n",
       "      <td>Astronomy</td>\n",
       "      <td>2000</td>\n",
       "    </tr>\n",
       "  </tbody>\n",
       "</table>\n",
       "</div>"
      ],
      "text/plain": [
       "        Date             Event   Cost\n",
       "0  10/2/2020  Computer Science  10000\n",
       "1  11/2/2020              Math   5000\n",
       "2  12/2/2020           Biology  15000\n",
       "3  13/2/2020         Astronomy   2000"
      ]
     },
     "execution_count": 15,
     "metadata": {},
     "output_type": "execute_result"
    }
   ],
   "source": [
    "data2 = {'Date': ['10/2/2020', '11/2/2020', '12/2/2020', '13/2/2020'],\n",
    "       'Event': ['Computer Science', 'Math', 'Biology', 'Astronomy'], \n",
    "        'Cost': [10000, 5000, 15000, 2000]}\n",
    "\n",
    "df2 = pd.DataFrame(data2)\n",
    "df2.head(10)"
   ]
  },
  {
   "cell_type": "markdown",
   "id": "250be3a0",
   "metadata": {},
   "source": [
    "### 2. Add New Columns to DataFrame"
   ]
  },
  {
   "cell_type": "markdown",
   "id": "8c76decb",
   "metadata": {},
   "source": [
    "    df2['Location'] = ['Portland', 'New York', 'Los Angeles', 'Boston']\n",
    "    df2.head(10)"
   ]
  },
  {
   "cell_type": "code",
   "execution_count": 16,
   "id": "9c8d5127",
   "metadata": {},
   "outputs": [
    {
     "data": {
      "text/html": [
       "<div>\n",
       "<style scoped>\n",
       "    .dataframe tbody tr th:only-of-type {\n",
       "        vertical-align: middle;\n",
       "    }\n",
       "\n",
       "    .dataframe tbody tr th {\n",
       "        vertical-align: top;\n",
       "    }\n",
       "\n",
       "    .dataframe thead th {\n",
       "        text-align: right;\n",
       "    }\n",
       "</style>\n",
       "<table border=\"1\" class=\"dataframe\">\n",
       "  <thead>\n",
       "    <tr style=\"text-align: right;\">\n",
       "      <th></th>\n",
       "      <th>Date</th>\n",
       "      <th>Event</th>\n",
       "      <th>Cost</th>\n",
       "      <th>Location</th>\n",
       "    </tr>\n",
       "  </thead>\n",
       "  <tbody>\n",
       "    <tr>\n",
       "      <th>0</th>\n",
       "      <td>10/2/2020</td>\n",
       "      <td>Computer Science</td>\n",
       "      <td>10000</td>\n",
       "      <td>Portland</td>\n",
       "    </tr>\n",
       "    <tr>\n",
       "      <th>1</th>\n",
       "      <td>11/2/2020</td>\n",
       "      <td>Math</td>\n",
       "      <td>5000</td>\n",
       "      <td>New York</td>\n",
       "    </tr>\n",
       "    <tr>\n",
       "      <th>2</th>\n",
       "      <td>12/2/2020</td>\n",
       "      <td>Biology</td>\n",
       "      <td>15000</td>\n",
       "      <td>Los Angeles</td>\n",
       "    </tr>\n",
       "    <tr>\n",
       "      <th>3</th>\n",
       "      <td>13/2/2020</td>\n",
       "      <td>Astronomy</td>\n",
       "      <td>2000</td>\n",
       "      <td>Boston</td>\n",
       "    </tr>\n",
       "  </tbody>\n",
       "</table>\n",
       "</div>"
      ],
      "text/plain": [
       "        Date             Event   Cost     Location\n",
       "0  10/2/2020  Computer Science  10000     Portland\n",
       "1  11/2/2020              Math   5000     New York\n",
       "2  12/2/2020           Biology  15000  Los Angeles\n",
       "3  13/2/2020         Astronomy   2000       Boston"
      ]
     },
     "execution_count": 16,
     "metadata": {},
     "output_type": "execute_result"
    }
   ],
   "source": [
    "df2['Location'] = ['Portland', 'New York', 'Los Angeles', 'Boston']\n",
    "df2.head(10)"
   ]
  },
  {
   "cell_type": "markdown",
   "id": "88953aab",
   "metadata": {},
   "source": [
    "    df2['Guests'], df2['Performer'] = [10, 20, 30, 40], ['John', 'Patrick', 'Sam', 'Adel']\n",
    "    df2.head(10)"
   ]
  },
  {
   "cell_type": "code",
   "execution_count": 17,
   "id": "2214afeb",
   "metadata": {},
   "outputs": [
    {
     "data": {
      "text/html": [
       "<div>\n",
       "<style scoped>\n",
       "    .dataframe tbody tr th:only-of-type {\n",
       "        vertical-align: middle;\n",
       "    }\n",
       "\n",
       "    .dataframe tbody tr th {\n",
       "        vertical-align: top;\n",
       "    }\n",
       "\n",
       "    .dataframe thead th {\n",
       "        text-align: right;\n",
       "    }\n",
       "</style>\n",
       "<table border=\"1\" class=\"dataframe\">\n",
       "  <thead>\n",
       "    <tr style=\"text-align: right;\">\n",
       "      <th></th>\n",
       "      <th>Date</th>\n",
       "      <th>Event</th>\n",
       "      <th>Cost</th>\n",
       "      <th>Location</th>\n",
       "      <th>Guests</th>\n",
       "      <th>Performer</th>\n",
       "    </tr>\n",
       "  </thead>\n",
       "  <tbody>\n",
       "    <tr>\n",
       "      <th>0</th>\n",
       "      <td>10/2/2020</td>\n",
       "      <td>Computer Science</td>\n",
       "      <td>10000</td>\n",
       "      <td>Portland</td>\n",
       "      <td>10</td>\n",
       "      <td>John</td>\n",
       "    </tr>\n",
       "    <tr>\n",
       "      <th>1</th>\n",
       "      <td>11/2/2020</td>\n",
       "      <td>Math</td>\n",
       "      <td>5000</td>\n",
       "      <td>New York</td>\n",
       "      <td>20</td>\n",
       "      <td>Patrick</td>\n",
       "    </tr>\n",
       "    <tr>\n",
       "      <th>2</th>\n",
       "      <td>12/2/2020</td>\n",
       "      <td>Biology</td>\n",
       "      <td>15000</td>\n",
       "      <td>Los Angeles</td>\n",
       "      <td>30</td>\n",
       "      <td>Sam</td>\n",
       "    </tr>\n",
       "    <tr>\n",
       "      <th>3</th>\n",
       "      <td>13/2/2020</td>\n",
       "      <td>Astronomy</td>\n",
       "      <td>2000</td>\n",
       "      <td>Boston</td>\n",
       "      <td>40</td>\n",
       "      <td>Adel</td>\n",
       "    </tr>\n",
       "  </tbody>\n",
       "</table>\n",
       "</div>"
      ],
      "text/plain": [
       "        Date             Event   Cost     Location  Guests Performer\n",
       "0  10/2/2020  Computer Science  10000     Portland      10      John\n",
       "1  11/2/2020              Math   5000     New York      20   Patrick\n",
       "2  12/2/2020           Biology  15000  Los Angeles      30       Sam\n",
       "3  13/2/2020         Astronomy   2000       Boston      40      Adel"
      ]
     },
     "execution_count": 17,
     "metadata": {},
     "output_type": "execute_result"
    }
   ],
   "source": [
    "df2['Guests'], df2['Performer'] = [10, 20, 30, 40], ['John', 'Patrick', 'Sam', 'Adel']\n",
    "df2.head(10)"
   ]
  },
  {
   "cell_type": "markdown",
   "id": "1666da1a",
   "metadata": {},
   "source": [
    "### 3. Remove Columns from DataFrame"
   ]
  },
  {
   "cell_type": "markdown",
   "id": "ad13ed2a",
   "metadata": {},
   "source": [
    "    df2 = df2.drop(columns=['Performer'])\n",
    "    df2.head(10)"
   ]
  },
  {
   "cell_type": "code",
   "execution_count": 18,
   "id": "3aa7a116",
   "metadata": {},
   "outputs": [
    {
     "data": {
      "text/html": [
       "<div>\n",
       "<style scoped>\n",
       "    .dataframe tbody tr th:only-of-type {\n",
       "        vertical-align: middle;\n",
       "    }\n",
       "\n",
       "    .dataframe tbody tr th {\n",
       "        vertical-align: top;\n",
       "    }\n",
       "\n",
       "    .dataframe thead th {\n",
       "        text-align: right;\n",
       "    }\n",
       "</style>\n",
       "<table border=\"1\" class=\"dataframe\">\n",
       "  <thead>\n",
       "    <tr style=\"text-align: right;\">\n",
       "      <th></th>\n",
       "      <th>Date</th>\n",
       "      <th>Event</th>\n",
       "      <th>Cost</th>\n",
       "      <th>Location</th>\n",
       "      <th>Guests</th>\n",
       "    </tr>\n",
       "  </thead>\n",
       "  <tbody>\n",
       "    <tr>\n",
       "      <th>0</th>\n",
       "      <td>10/2/2020</td>\n",
       "      <td>Computer Science</td>\n",
       "      <td>10000</td>\n",
       "      <td>Portland</td>\n",
       "      <td>10</td>\n",
       "    </tr>\n",
       "    <tr>\n",
       "      <th>1</th>\n",
       "      <td>11/2/2020</td>\n",
       "      <td>Math</td>\n",
       "      <td>5000</td>\n",
       "      <td>New York</td>\n",
       "      <td>20</td>\n",
       "    </tr>\n",
       "    <tr>\n",
       "      <th>2</th>\n",
       "      <td>12/2/2020</td>\n",
       "      <td>Biology</td>\n",
       "      <td>15000</td>\n",
       "      <td>Los Angeles</td>\n",
       "      <td>30</td>\n",
       "    </tr>\n",
       "    <tr>\n",
       "      <th>3</th>\n",
       "      <td>13/2/2020</td>\n",
       "      <td>Astronomy</td>\n",
       "      <td>2000</td>\n",
       "      <td>Boston</td>\n",
       "      <td>40</td>\n",
       "    </tr>\n",
       "  </tbody>\n",
       "</table>\n",
       "</div>"
      ],
      "text/plain": [
       "        Date             Event   Cost     Location  Guests\n",
       "0  10/2/2020  Computer Science  10000     Portland      10\n",
       "1  11/2/2020              Math   5000     New York      20\n",
       "2  12/2/2020           Biology  15000  Los Angeles      30\n",
       "3  13/2/2020         Astronomy   2000       Boston      40"
      ]
     },
     "execution_count": 18,
     "metadata": {},
     "output_type": "execute_result"
    }
   ],
   "source": [
    "df2 = df2.drop(columns=['Performer'])\n",
    "df2.head(10)"
   ]
  },
  {
   "cell_type": "markdown",
   "id": "aa6c8f86",
   "metadata": {},
   "source": [
    "    df2 = df2.drop(columns=['Cost', 'Guests'])\n",
    "    df2.head(10)"
   ]
  },
  {
   "cell_type": "code",
   "execution_count": 19,
   "id": "a2463327",
   "metadata": {},
   "outputs": [
    {
     "data": {
      "text/html": [
       "<div>\n",
       "<style scoped>\n",
       "    .dataframe tbody tr th:only-of-type {\n",
       "        vertical-align: middle;\n",
       "    }\n",
       "\n",
       "    .dataframe tbody tr th {\n",
       "        vertical-align: top;\n",
       "    }\n",
       "\n",
       "    .dataframe thead th {\n",
       "        text-align: right;\n",
       "    }\n",
       "</style>\n",
       "<table border=\"1\" class=\"dataframe\">\n",
       "  <thead>\n",
       "    <tr style=\"text-align: right;\">\n",
       "      <th></th>\n",
       "      <th>Date</th>\n",
       "      <th>Event</th>\n",
       "      <th>Location</th>\n",
       "    </tr>\n",
       "  </thead>\n",
       "  <tbody>\n",
       "    <tr>\n",
       "      <th>0</th>\n",
       "      <td>10/2/2020</td>\n",
       "      <td>Computer Science</td>\n",
       "      <td>Portland</td>\n",
       "    </tr>\n",
       "    <tr>\n",
       "      <th>1</th>\n",
       "      <td>11/2/2020</td>\n",
       "      <td>Math</td>\n",
       "      <td>New York</td>\n",
       "    </tr>\n",
       "    <tr>\n",
       "      <th>2</th>\n",
       "      <td>12/2/2020</td>\n",
       "      <td>Biology</td>\n",
       "      <td>Los Angeles</td>\n",
       "    </tr>\n",
       "    <tr>\n",
       "      <th>3</th>\n",
       "      <td>13/2/2020</td>\n",
       "      <td>Astronomy</td>\n",
       "      <td>Boston</td>\n",
       "    </tr>\n",
       "  </tbody>\n",
       "</table>\n",
       "</div>"
      ],
      "text/plain": [
       "        Date             Event     Location\n",
       "0  10/2/2020  Computer Science     Portland\n",
       "1  11/2/2020              Math     New York\n",
       "2  12/2/2020           Biology  Los Angeles\n",
       "3  13/2/2020         Astronomy       Boston"
      ]
     },
     "execution_count": 19,
     "metadata": {},
     "output_type": "execute_result"
    }
   ],
   "source": [
    "df2 = df2.drop(columns=['Cost', 'Guests'])\n",
    "df2.head(10)"
   ]
  },
  {
   "cell_type": "markdown",
   "id": "cc3ab786",
   "metadata": {},
   "source": [
    "### 4. Rename Column Names with Python Dictionary"
   ]
  },
  {
   "cell_type": "markdown",
   "id": "700a9872",
   "metadata": {},
   "source": [
    "    # Rename Event column to Genre column\n",
    "    # Possible to rename multiple columns using python dictionary\n",
    "\n",
    "    df2 = df2.rename(columns={'Event': 'Genre'})\n",
    "    df2.head(10)"
   ]
  },
  {
   "cell_type": "code",
   "execution_count": 20,
   "id": "f44c9c13",
   "metadata": {},
   "outputs": [
    {
     "data": {
      "text/html": [
       "<div>\n",
       "<style scoped>\n",
       "    .dataframe tbody tr th:only-of-type {\n",
       "        vertical-align: middle;\n",
       "    }\n",
       "\n",
       "    .dataframe tbody tr th {\n",
       "        vertical-align: top;\n",
       "    }\n",
       "\n",
       "    .dataframe thead th {\n",
       "        text-align: right;\n",
       "    }\n",
       "</style>\n",
       "<table border=\"1\" class=\"dataframe\">\n",
       "  <thead>\n",
       "    <tr style=\"text-align: right;\">\n",
       "      <th></th>\n",
       "      <th>Date</th>\n",
       "      <th>Genre</th>\n",
       "      <th>Location</th>\n",
       "    </tr>\n",
       "  </thead>\n",
       "  <tbody>\n",
       "    <tr>\n",
       "      <th>0</th>\n",
       "      <td>10/2/2020</td>\n",
       "      <td>Computer Science</td>\n",
       "      <td>Portland</td>\n",
       "    </tr>\n",
       "    <tr>\n",
       "      <th>1</th>\n",
       "      <td>11/2/2020</td>\n",
       "      <td>Math</td>\n",
       "      <td>New York</td>\n",
       "    </tr>\n",
       "    <tr>\n",
       "      <th>2</th>\n",
       "      <td>12/2/2020</td>\n",
       "      <td>Biology</td>\n",
       "      <td>Los Angeles</td>\n",
       "    </tr>\n",
       "    <tr>\n",
       "      <th>3</th>\n",
       "      <td>13/2/2020</td>\n",
       "      <td>Astronomy</td>\n",
       "      <td>Boston</td>\n",
       "    </tr>\n",
       "  </tbody>\n",
       "</table>\n",
       "</div>"
      ],
      "text/plain": [
       "        Date             Genre     Location\n",
       "0  10/2/2020  Computer Science     Portland\n",
       "1  11/2/2020              Math     New York\n",
       "2  12/2/2020           Biology  Los Angeles\n",
       "3  13/2/2020         Astronomy       Boston"
      ]
     },
     "execution_count": 20,
     "metadata": {},
     "output_type": "execute_result"
    }
   ],
   "source": [
    "# Rename Event column to Genre column\n",
    "# Possible to rename multiple columns using python dictionary\n",
    "\n",
    "df2 = df2.rename(columns={'Event': 'Genre'})\n",
    "df2.head(10)"
   ]
  },
  {
   "cell_type": "markdown",
   "id": "c8a6cc86",
   "metadata": {},
   "source": [
    "### 5. Append Rows into DataFrame"
   ]
  },
  {
   "cell_type": "markdown",
   "id": "231f1ce8",
   "metadata": {},
   "source": [
    "    newData = {'Date': '15/2/2020', 'Genre': 'K-Pop'}\n",
    "    df2 = df2.append(newData, ignore_index=True)\n",
    "    df2.head(10)"
   ]
  },
  {
   "cell_type": "code",
   "execution_count": 21,
   "id": "35cf48b5",
   "metadata": {},
   "outputs": [
    {
     "data": {
      "text/html": [
       "<div>\n",
       "<style scoped>\n",
       "    .dataframe tbody tr th:only-of-type {\n",
       "        vertical-align: middle;\n",
       "    }\n",
       "\n",
       "    .dataframe tbody tr th {\n",
       "        vertical-align: top;\n",
       "    }\n",
       "\n",
       "    .dataframe thead th {\n",
       "        text-align: right;\n",
       "    }\n",
       "</style>\n",
       "<table border=\"1\" class=\"dataframe\">\n",
       "  <thead>\n",
       "    <tr style=\"text-align: right;\">\n",
       "      <th></th>\n",
       "      <th>Date</th>\n",
       "      <th>Genre</th>\n",
       "      <th>Location</th>\n",
       "    </tr>\n",
       "  </thead>\n",
       "  <tbody>\n",
       "    <tr>\n",
       "      <th>0</th>\n",
       "      <td>10/2/2020</td>\n",
       "      <td>Computer Science</td>\n",
       "      <td>Portland</td>\n",
       "    </tr>\n",
       "    <tr>\n",
       "      <th>1</th>\n",
       "      <td>11/2/2020</td>\n",
       "      <td>Math</td>\n",
       "      <td>New York</td>\n",
       "    </tr>\n",
       "    <tr>\n",
       "      <th>2</th>\n",
       "      <td>12/2/2020</td>\n",
       "      <td>Biology</td>\n",
       "      <td>Los Angeles</td>\n",
       "    </tr>\n",
       "    <tr>\n",
       "      <th>3</th>\n",
       "      <td>13/2/2020</td>\n",
       "      <td>Astronomy</td>\n",
       "      <td>Boston</td>\n",
       "    </tr>\n",
       "    <tr>\n",
       "      <th>4</th>\n",
       "      <td>15/2/2020</td>\n",
       "      <td>K-Pop</td>\n",
       "      <td>NaN</td>\n",
       "    </tr>\n",
       "  </tbody>\n",
       "</table>\n",
       "</div>"
      ],
      "text/plain": [
       "        Date             Genre     Location\n",
       "0  10/2/2020  Computer Science     Portland\n",
       "1  11/2/2020              Math     New York\n",
       "2  12/2/2020           Biology  Los Angeles\n",
       "3  13/2/2020         Astronomy       Boston\n",
       "4  15/2/2020             K-Pop          NaN"
      ]
     },
     "execution_count": 21,
     "metadata": {},
     "output_type": "execute_result"
    }
   ],
   "source": [
    "newData = {'Date': '15/2/2020', 'Genre': 'K-Pop'}\n",
    "df2 = df2.append(newData, ignore_index=True)\n",
    "df2.head(10)"
   ]
  },
  {
   "cell_type": "markdown",
   "id": "3e644bc4",
   "metadata": {},
   "source": [
    "    df3 = pd.DataFrame({'Date': ['10/3/2020', '11/3/2020'],\n",
    "                        'Genre': ['Literature', 'Physics'],\n",
    "                       'Location': ['Japan', 'Spain']})\n",
    "    df3.head(10)"
   ]
  },
  {
   "cell_type": "code",
   "execution_count": 22,
   "id": "dd0fae9a",
   "metadata": {},
   "outputs": [
    {
     "data": {
      "text/html": [
       "<div>\n",
       "<style scoped>\n",
       "    .dataframe tbody tr th:only-of-type {\n",
       "        vertical-align: middle;\n",
       "    }\n",
       "\n",
       "    .dataframe tbody tr th {\n",
       "        vertical-align: top;\n",
       "    }\n",
       "\n",
       "    .dataframe thead th {\n",
       "        text-align: right;\n",
       "    }\n",
       "</style>\n",
       "<table border=\"1\" class=\"dataframe\">\n",
       "  <thead>\n",
       "    <tr style=\"text-align: right;\">\n",
       "      <th></th>\n",
       "      <th>Date</th>\n",
       "      <th>Genre</th>\n",
       "      <th>Location</th>\n",
       "    </tr>\n",
       "  </thead>\n",
       "  <tbody>\n",
       "    <tr>\n",
       "      <th>0</th>\n",
       "      <td>10/3/2020</td>\n",
       "      <td>Literature</td>\n",
       "      <td>Japan</td>\n",
       "    </tr>\n",
       "    <tr>\n",
       "      <th>1</th>\n",
       "      <td>11/3/2020</td>\n",
       "      <td>Physics</td>\n",
       "      <td>Spain</td>\n",
       "    </tr>\n",
       "  </tbody>\n",
       "</table>\n",
       "</div>"
      ],
      "text/plain": [
       "        Date       Genre Location\n",
       "0  10/3/2020  Literature    Japan\n",
       "1  11/3/2020     Physics    Spain"
      ]
     },
     "execution_count": 22,
     "metadata": {},
     "output_type": "execute_result"
    }
   ],
   "source": [
    "df3 = pd.DataFrame({'Date': ['10/3/2020', '11/3/2020'],\n",
    "                    'Genre': ['Literature', 'Physics'],\n",
    "                   'Location': ['Japan', 'Spain']})\n",
    "df3.head(10)"
   ]
  },
  {
   "cell_type": "markdown",
   "id": "49be788f",
   "metadata": {},
   "source": [
    "### 6. Concatenate DataFrames"
   ]
  },
  {
   "cell_type": "markdown",
   "id": "71332242",
   "metadata": {},
   "source": [
    "    concated = pd.concat([df2,df3], ignore_index=True)\n",
    "    concated.head(10)"
   ]
  },
  {
   "cell_type": "code",
   "execution_count": 23,
   "id": "4613cfed",
   "metadata": {},
   "outputs": [
    {
     "data": {
      "text/html": [
       "<div>\n",
       "<style scoped>\n",
       "    .dataframe tbody tr th:only-of-type {\n",
       "        vertical-align: middle;\n",
       "    }\n",
       "\n",
       "    .dataframe tbody tr th {\n",
       "        vertical-align: top;\n",
       "    }\n",
       "\n",
       "    .dataframe thead th {\n",
       "        text-align: right;\n",
       "    }\n",
       "</style>\n",
       "<table border=\"1\" class=\"dataframe\">\n",
       "  <thead>\n",
       "    <tr style=\"text-align: right;\">\n",
       "      <th></th>\n",
       "      <th>Date</th>\n",
       "      <th>Genre</th>\n",
       "      <th>Location</th>\n",
       "    </tr>\n",
       "  </thead>\n",
       "  <tbody>\n",
       "    <tr>\n",
       "      <th>0</th>\n",
       "      <td>10/2/2020</td>\n",
       "      <td>Computer Science</td>\n",
       "      <td>Portland</td>\n",
       "    </tr>\n",
       "    <tr>\n",
       "      <th>1</th>\n",
       "      <td>11/2/2020</td>\n",
       "      <td>Math</td>\n",
       "      <td>New York</td>\n",
       "    </tr>\n",
       "    <tr>\n",
       "      <th>2</th>\n",
       "      <td>12/2/2020</td>\n",
       "      <td>Biology</td>\n",
       "      <td>Los Angeles</td>\n",
       "    </tr>\n",
       "    <tr>\n",
       "      <th>3</th>\n",
       "      <td>13/2/2020</td>\n",
       "      <td>Astronomy</td>\n",
       "      <td>Boston</td>\n",
       "    </tr>\n",
       "    <tr>\n",
       "      <th>4</th>\n",
       "      <td>15/2/2020</td>\n",
       "      <td>K-Pop</td>\n",
       "      <td>NaN</td>\n",
       "    </tr>\n",
       "    <tr>\n",
       "      <th>5</th>\n",
       "      <td>10/3/2020</td>\n",
       "      <td>Literature</td>\n",
       "      <td>Japan</td>\n",
       "    </tr>\n",
       "    <tr>\n",
       "      <th>6</th>\n",
       "      <td>11/3/2020</td>\n",
       "      <td>Physics</td>\n",
       "      <td>Spain</td>\n",
       "    </tr>\n",
       "  </tbody>\n",
       "</table>\n",
       "</div>"
      ],
      "text/plain": [
       "        Date             Genre     Location\n",
       "0  10/2/2020  Computer Science     Portland\n",
       "1  11/2/2020              Math     New York\n",
       "2  12/2/2020           Biology  Los Angeles\n",
       "3  13/2/2020         Astronomy       Boston\n",
       "4  15/2/2020             K-Pop          NaN\n",
       "5  10/3/2020        Literature        Japan\n",
       "6  11/3/2020           Physics        Spain"
      ]
     },
     "execution_count": 23,
     "metadata": {},
     "output_type": "execute_result"
    }
   ],
   "source": [
    "concated = pd.concat([df2,df3], ignore_index=True)\n",
    "concated.head(10)"
   ]
  },
  {
   "cell_type": "markdown",
   "id": "3eca197d",
   "metadata": {},
   "source": [
    "    df4 = pd.DataFrame({'Gender': ['Male', 'Female'],\n",
    "                       'School': ['Spain', 'England']})\n",
    "    df4.head()"
   ]
  },
  {
   "cell_type": "code",
   "execution_count": 24,
   "id": "d9d56411",
   "metadata": {},
   "outputs": [
    {
     "data": {
      "text/html": [
       "<div>\n",
       "<style scoped>\n",
       "    .dataframe tbody tr th:only-of-type {\n",
       "        vertical-align: middle;\n",
       "    }\n",
       "\n",
       "    .dataframe tbody tr th {\n",
       "        vertical-align: top;\n",
       "    }\n",
       "\n",
       "    .dataframe thead th {\n",
       "        text-align: right;\n",
       "    }\n",
       "</style>\n",
       "<table border=\"1\" class=\"dataframe\">\n",
       "  <thead>\n",
       "    <tr style=\"text-align: right;\">\n",
       "      <th></th>\n",
       "      <th>Gender</th>\n",
       "      <th>School</th>\n",
       "    </tr>\n",
       "  </thead>\n",
       "  <tbody>\n",
       "    <tr>\n",
       "      <th>0</th>\n",
       "      <td>Male</td>\n",
       "      <td>Spain</td>\n",
       "    </tr>\n",
       "    <tr>\n",
       "      <th>1</th>\n",
       "      <td>Female</td>\n",
       "      <td>England</td>\n",
       "    </tr>\n",
       "  </tbody>\n",
       "</table>\n",
       "</div>"
      ],
      "text/plain": [
       "   Gender   School\n",
       "0    Male    Spain\n",
       "1  Female  England"
      ]
     },
     "execution_count": 24,
     "metadata": {},
     "output_type": "execute_result"
    }
   ],
   "source": [
    "df4 = pd.DataFrame({'Gender': ['Male', 'Female'],\n",
    "                   'School': ['Spain', 'England']})\n",
    "df4.head()"
   ]
  },
  {
   "cell_type": "markdown",
   "id": "76fbd27d",
   "metadata": {},
   "source": [
    "    tryconcat = pd.concat([concated,df4], ignore_index=True)\n",
    "    tryconcat.head(20)"
   ]
  },
  {
   "cell_type": "code",
   "execution_count": 25,
   "id": "a0ac2e4b",
   "metadata": {},
   "outputs": [
    {
     "data": {
      "text/html": [
       "<div>\n",
       "<style scoped>\n",
       "    .dataframe tbody tr th:only-of-type {\n",
       "        vertical-align: middle;\n",
       "    }\n",
       "\n",
       "    .dataframe tbody tr th {\n",
       "        vertical-align: top;\n",
       "    }\n",
       "\n",
       "    .dataframe thead th {\n",
       "        text-align: right;\n",
       "    }\n",
       "</style>\n",
       "<table border=\"1\" class=\"dataframe\">\n",
       "  <thead>\n",
       "    <tr style=\"text-align: right;\">\n",
       "      <th></th>\n",
       "      <th>Date</th>\n",
       "      <th>Genre</th>\n",
       "      <th>Location</th>\n",
       "      <th>Gender</th>\n",
       "      <th>School</th>\n",
       "    </tr>\n",
       "  </thead>\n",
       "  <tbody>\n",
       "    <tr>\n",
       "      <th>0</th>\n",
       "      <td>10/2/2020</td>\n",
       "      <td>Computer Science</td>\n",
       "      <td>Portland</td>\n",
       "      <td>NaN</td>\n",
       "      <td>NaN</td>\n",
       "    </tr>\n",
       "    <tr>\n",
       "      <th>1</th>\n",
       "      <td>11/2/2020</td>\n",
       "      <td>Math</td>\n",
       "      <td>New York</td>\n",
       "      <td>NaN</td>\n",
       "      <td>NaN</td>\n",
       "    </tr>\n",
       "    <tr>\n",
       "      <th>2</th>\n",
       "      <td>12/2/2020</td>\n",
       "      <td>Biology</td>\n",
       "      <td>Los Angeles</td>\n",
       "      <td>NaN</td>\n",
       "      <td>NaN</td>\n",
       "    </tr>\n",
       "    <tr>\n",
       "      <th>3</th>\n",
       "      <td>13/2/2020</td>\n",
       "      <td>Astronomy</td>\n",
       "      <td>Boston</td>\n",
       "      <td>NaN</td>\n",
       "      <td>NaN</td>\n",
       "    </tr>\n",
       "    <tr>\n",
       "      <th>4</th>\n",
       "      <td>15/2/2020</td>\n",
       "      <td>K-Pop</td>\n",
       "      <td>NaN</td>\n",
       "      <td>NaN</td>\n",
       "      <td>NaN</td>\n",
       "    </tr>\n",
       "    <tr>\n",
       "      <th>5</th>\n",
       "      <td>10/3/2020</td>\n",
       "      <td>Literature</td>\n",
       "      <td>Japan</td>\n",
       "      <td>NaN</td>\n",
       "      <td>NaN</td>\n",
       "    </tr>\n",
       "    <tr>\n",
       "      <th>6</th>\n",
       "      <td>11/3/2020</td>\n",
       "      <td>Physics</td>\n",
       "      <td>Spain</td>\n",
       "      <td>NaN</td>\n",
       "      <td>NaN</td>\n",
       "    </tr>\n",
       "    <tr>\n",
       "      <th>7</th>\n",
       "      <td>NaN</td>\n",
       "      <td>NaN</td>\n",
       "      <td>NaN</td>\n",
       "      <td>Male</td>\n",
       "      <td>Spain</td>\n",
       "    </tr>\n",
       "    <tr>\n",
       "      <th>8</th>\n",
       "      <td>NaN</td>\n",
       "      <td>NaN</td>\n",
       "      <td>NaN</td>\n",
       "      <td>Female</td>\n",
       "      <td>England</td>\n",
       "    </tr>\n",
       "  </tbody>\n",
       "</table>\n",
       "</div>"
      ],
      "text/plain": [
       "        Date             Genre     Location  Gender   School\n",
       "0  10/2/2020  Computer Science     Portland     NaN      NaN\n",
       "1  11/2/2020              Math     New York     NaN      NaN\n",
       "2  12/2/2020           Biology  Los Angeles     NaN      NaN\n",
       "3  13/2/2020         Astronomy       Boston     NaN      NaN\n",
       "4  15/2/2020             K-Pop          NaN     NaN      NaN\n",
       "5  10/3/2020        Literature        Japan     NaN      NaN\n",
       "6  11/3/2020           Physics        Spain     NaN      NaN\n",
       "7        NaN               NaN          NaN    Male    Spain\n",
       "8        NaN               NaN          NaN  Female  England"
      ]
     },
     "execution_count": 25,
     "metadata": {},
     "output_type": "execute_result"
    }
   ],
   "source": [
    "tryconcat = pd.concat([concated,df4], ignore_index=True)\n",
    "tryconcat.head(20)"
   ]
  },
  {
   "cell_type": "markdown",
   "id": "cab1fa27",
   "metadata": {},
   "source": [
    "### 7. Remove Rows from DataFrame"
   ]
  },
  {
   "cell_type": "markdown",
   "id": "cff959b4",
   "metadata": {},
   "source": [
    "    tryconcat = tryconcat.drop([0,1,5], axis=0)\n",
    "    tryconcat.head(20)"
   ]
  },
  {
   "cell_type": "code",
   "execution_count": 26,
   "id": "3b87ada6",
   "metadata": {},
   "outputs": [
    {
     "data": {
      "text/html": [
       "<div>\n",
       "<style scoped>\n",
       "    .dataframe tbody tr th:only-of-type {\n",
       "        vertical-align: middle;\n",
       "    }\n",
       "\n",
       "    .dataframe tbody tr th {\n",
       "        vertical-align: top;\n",
       "    }\n",
       "\n",
       "    .dataframe thead th {\n",
       "        text-align: right;\n",
       "    }\n",
       "</style>\n",
       "<table border=\"1\" class=\"dataframe\">\n",
       "  <thead>\n",
       "    <tr style=\"text-align: right;\">\n",
       "      <th></th>\n",
       "      <th>Date</th>\n",
       "      <th>Genre</th>\n",
       "      <th>Location</th>\n",
       "      <th>Gender</th>\n",
       "      <th>School</th>\n",
       "    </tr>\n",
       "  </thead>\n",
       "  <tbody>\n",
       "    <tr>\n",
       "      <th>2</th>\n",
       "      <td>12/2/2020</td>\n",
       "      <td>Biology</td>\n",
       "      <td>Los Angeles</td>\n",
       "      <td>NaN</td>\n",
       "      <td>NaN</td>\n",
       "    </tr>\n",
       "    <tr>\n",
       "      <th>3</th>\n",
       "      <td>13/2/2020</td>\n",
       "      <td>Astronomy</td>\n",
       "      <td>Boston</td>\n",
       "      <td>NaN</td>\n",
       "      <td>NaN</td>\n",
       "    </tr>\n",
       "    <tr>\n",
       "      <th>4</th>\n",
       "      <td>15/2/2020</td>\n",
       "      <td>K-Pop</td>\n",
       "      <td>NaN</td>\n",
       "      <td>NaN</td>\n",
       "      <td>NaN</td>\n",
       "    </tr>\n",
       "    <tr>\n",
       "      <th>6</th>\n",
       "      <td>11/3/2020</td>\n",
       "      <td>Physics</td>\n",
       "      <td>Spain</td>\n",
       "      <td>NaN</td>\n",
       "      <td>NaN</td>\n",
       "    </tr>\n",
       "    <tr>\n",
       "      <th>7</th>\n",
       "      <td>NaN</td>\n",
       "      <td>NaN</td>\n",
       "      <td>NaN</td>\n",
       "      <td>Male</td>\n",
       "      <td>Spain</td>\n",
       "    </tr>\n",
       "    <tr>\n",
       "      <th>8</th>\n",
       "      <td>NaN</td>\n",
       "      <td>NaN</td>\n",
       "      <td>NaN</td>\n",
       "      <td>Female</td>\n",
       "      <td>England</td>\n",
       "    </tr>\n",
       "  </tbody>\n",
       "</table>\n",
       "</div>"
      ],
      "text/plain": [
       "        Date      Genre     Location  Gender   School\n",
       "2  12/2/2020    Biology  Los Angeles     NaN      NaN\n",
       "3  13/2/2020  Astronomy       Boston     NaN      NaN\n",
       "4  15/2/2020      K-Pop          NaN     NaN      NaN\n",
       "6  11/3/2020    Physics        Spain     NaN      NaN\n",
       "7        NaN        NaN          NaN    Male    Spain\n",
       "8        NaN        NaN          NaN  Female  England"
      ]
     },
     "execution_count": 26,
     "metadata": {},
     "output_type": "execute_result"
    }
   ],
   "source": [
    "tryconcat = tryconcat.drop([0,1,5], axis=0)\n",
    "tryconcat.head(20)"
   ]
  },
  {
   "cell_type": "markdown",
   "id": "8866d383",
   "metadata": {},
   "source": [
    "    tryconcat = tryconcat[3:]\n",
    "    tryconcat.head(20)"
   ]
  },
  {
   "cell_type": "code",
   "execution_count": 27,
   "id": "bbae7af3",
   "metadata": {},
   "outputs": [
    {
     "data": {
      "text/html": [
       "<div>\n",
       "<style scoped>\n",
       "    .dataframe tbody tr th:only-of-type {\n",
       "        vertical-align: middle;\n",
       "    }\n",
       "\n",
       "    .dataframe tbody tr th {\n",
       "        vertical-align: top;\n",
       "    }\n",
       "\n",
       "    .dataframe thead th {\n",
       "        text-align: right;\n",
       "    }\n",
       "</style>\n",
       "<table border=\"1\" class=\"dataframe\">\n",
       "  <thead>\n",
       "    <tr style=\"text-align: right;\">\n",
       "      <th></th>\n",
       "      <th>Date</th>\n",
       "      <th>Genre</th>\n",
       "      <th>Location</th>\n",
       "      <th>Gender</th>\n",
       "      <th>School</th>\n",
       "    </tr>\n",
       "  </thead>\n",
       "  <tbody>\n",
       "    <tr>\n",
       "      <th>6</th>\n",
       "      <td>11/3/2020</td>\n",
       "      <td>Physics</td>\n",
       "      <td>Spain</td>\n",
       "      <td>NaN</td>\n",
       "      <td>NaN</td>\n",
       "    </tr>\n",
       "    <tr>\n",
       "      <th>7</th>\n",
       "      <td>NaN</td>\n",
       "      <td>NaN</td>\n",
       "      <td>NaN</td>\n",
       "      <td>Male</td>\n",
       "      <td>Spain</td>\n",
       "    </tr>\n",
       "    <tr>\n",
       "      <th>8</th>\n",
       "      <td>NaN</td>\n",
       "      <td>NaN</td>\n",
       "      <td>NaN</td>\n",
       "      <td>Female</td>\n",
       "      <td>England</td>\n",
       "    </tr>\n",
       "  </tbody>\n",
       "</table>\n",
       "</div>"
      ],
      "text/plain": [
       "        Date    Genre Location  Gender   School\n",
       "6  11/3/2020  Physics    Spain     NaN      NaN\n",
       "7        NaN      NaN      NaN    Male    Spain\n",
       "8        NaN      NaN      NaN  Female  England"
      ]
     },
     "execution_count": 27,
     "metadata": {},
     "output_type": "execute_result"
    }
   ],
   "source": [
    "tryconcat = tryconcat[3:]\n",
    "tryconcat.head(20)"
   ]
  },
  {
   "cell_type": "markdown",
   "id": "7cceb9e2",
   "metadata": {},
   "source": [
    "    tryconcat = tryconcat[0:2]\n",
    "    tryconcat.head()"
   ]
  },
  {
   "cell_type": "code",
   "execution_count": 28,
   "id": "01ad0bf1",
   "metadata": {},
   "outputs": [
    {
     "data": {
      "text/html": [
       "<div>\n",
       "<style scoped>\n",
       "    .dataframe tbody tr th:only-of-type {\n",
       "        vertical-align: middle;\n",
       "    }\n",
       "\n",
       "    .dataframe tbody tr th {\n",
       "        vertical-align: top;\n",
       "    }\n",
       "\n",
       "    .dataframe thead th {\n",
       "        text-align: right;\n",
       "    }\n",
       "</style>\n",
       "<table border=\"1\" class=\"dataframe\">\n",
       "  <thead>\n",
       "    <tr style=\"text-align: right;\">\n",
       "      <th></th>\n",
       "      <th>Date</th>\n",
       "      <th>Genre</th>\n",
       "      <th>Location</th>\n",
       "      <th>Gender</th>\n",
       "      <th>School</th>\n",
       "    </tr>\n",
       "  </thead>\n",
       "  <tbody>\n",
       "    <tr>\n",
       "      <th>6</th>\n",
       "      <td>11/3/2020</td>\n",
       "      <td>Physics</td>\n",
       "      <td>Spain</td>\n",
       "      <td>NaN</td>\n",
       "      <td>NaN</td>\n",
       "    </tr>\n",
       "    <tr>\n",
       "      <th>7</th>\n",
       "      <td>NaN</td>\n",
       "      <td>NaN</td>\n",
       "      <td>NaN</td>\n",
       "      <td>Male</td>\n",
       "      <td>Spain</td>\n",
       "    </tr>\n",
       "  </tbody>\n",
       "</table>\n",
       "</div>"
      ],
      "text/plain": [
       "        Date    Genre Location Gender School\n",
       "6  11/3/2020  Physics    Spain    NaN    NaN\n",
       "7        NaN      NaN      NaN   Male  Spain"
      ]
     },
     "execution_count": 28,
     "metadata": {},
     "output_type": "execute_result"
    }
   ],
   "source": [
    "tryconcat = tryconcat[0:2]\n",
    "tryconcat.head()"
   ]
  },
  {
   "cell_type": "markdown",
   "id": "b855d424",
   "metadata": {},
   "source": [
    "### 8. Set Index"
   ]
  },
  {
   "cell_type": "markdown",
   "id": "320bb69e",
   "metadata": {},
   "source": [
    "    tryconcat.set_index('Date', inplace=True)\n",
    "    tryconcat.head()"
   ]
  },
  {
   "cell_type": "code",
   "execution_count": 29,
   "id": "b0688314",
   "metadata": {},
   "outputs": [],
   "source": [
    "tryconcat.set_index('Date', inplace=True)"
   ]
  },
  {
   "cell_type": "code",
   "execution_count": 30,
   "id": "7cac6641",
   "metadata": {},
   "outputs": [
    {
     "data": {
      "text/html": [
       "<div>\n",
       "<style scoped>\n",
       "    .dataframe tbody tr th:only-of-type {\n",
       "        vertical-align: middle;\n",
       "    }\n",
       "\n",
       "    .dataframe tbody tr th {\n",
       "        vertical-align: top;\n",
       "    }\n",
       "\n",
       "    .dataframe thead th {\n",
       "        text-align: right;\n",
       "    }\n",
       "</style>\n",
       "<table border=\"1\" class=\"dataframe\">\n",
       "  <thead>\n",
       "    <tr style=\"text-align: right;\">\n",
       "      <th></th>\n",
       "      <th>Genre</th>\n",
       "      <th>Location</th>\n",
       "      <th>Gender</th>\n",
       "      <th>School</th>\n",
       "    </tr>\n",
       "    <tr>\n",
       "      <th>Date</th>\n",
       "      <th></th>\n",
       "      <th></th>\n",
       "      <th></th>\n",
       "      <th></th>\n",
       "    </tr>\n",
       "  </thead>\n",
       "  <tbody>\n",
       "    <tr>\n",
       "      <th>11/3/2020</th>\n",
       "      <td>Physics</td>\n",
       "      <td>Spain</td>\n",
       "      <td>NaN</td>\n",
       "      <td>NaN</td>\n",
       "    </tr>\n",
       "    <tr>\n",
       "      <th>NaN</th>\n",
       "      <td>NaN</td>\n",
       "      <td>NaN</td>\n",
       "      <td>Male</td>\n",
       "      <td>Spain</td>\n",
       "    </tr>\n",
       "  </tbody>\n",
       "</table>\n",
       "</div>"
      ],
      "text/plain": [
       "             Genre Location Gender School\n",
       "Date                                     \n",
       "11/3/2020  Physics    Spain    NaN    NaN\n",
       "NaN            NaN      NaN   Male  Spain"
      ]
     },
     "execution_count": 30,
     "metadata": {},
     "output_type": "execute_result"
    }
   ],
   "source": [
    "tryconcat.head()"
   ]
  },
  {
   "cell_type": "markdown",
   "id": "98144ad1",
   "metadata": {},
   "source": [
    "    tryconcat = tryconcat.drop('11/3/2020', axis=0)\n",
    "    tryconcat.head()"
   ]
  },
  {
   "cell_type": "code",
   "execution_count": 31,
   "id": "0cd7b423",
   "metadata": {},
   "outputs": [
    {
     "data": {
      "text/html": [
       "<div>\n",
       "<style scoped>\n",
       "    .dataframe tbody tr th:only-of-type {\n",
       "        vertical-align: middle;\n",
       "    }\n",
       "\n",
       "    .dataframe tbody tr th {\n",
       "        vertical-align: top;\n",
       "    }\n",
       "\n",
       "    .dataframe thead th {\n",
       "        text-align: right;\n",
       "    }\n",
       "</style>\n",
       "<table border=\"1\" class=\"dataframe\">\n",
       "  <thead>\n",
       "    <tr style=\"text-align: right;\">\n",
       "      <th></th>\n",
       "      <th>Genre</th>\n",
       "      <th>Location</th>\n",
       "      <th>Gender</th>\n",
       "      <th>School</th>\n",
       "    </tr>\n",
       "    <tr>\n",
       "      <th>Date</th>\n",
       "      <th></th>\n",
       "      <th></th>\n",
       "      <th></th>\n",
       "      <th></th>\n",
       "    </tr>\n",
       "  </thead>\n",
       "  <tbody>\n",
       "    <tr>\n",
       "      <th>NaN</th>\n",
       "      <td>NaN</td>\n",
       "      <td>NaN</td>\n",
       "      <td>Male</td>\n",
       "      <td>Spain</td>\n",
       "    </tr>\n",
       "  </tbody>\n",
       "</table>\n",
       "</div>"
      ],
      "text/plain": [
       "     Genre Location Gender School\n",
       "Date                             \n",
       "NaN    NaN      NaN   Male  Spain"
      ]
     },
     "execution_count": 31,
     "metadata": {},
     "output_type": "execute_result"
    }
   ],
   "source": [
    "tryconcat = tryconcat.drop('11/3/2020', axis=0)\n",
    "tryconcat.head()"
   ]
  },
  {
   "cell_type": "markdown",
   "id": "fc70eb78",
   "metadata": {},
   "source": [
    "### 9. loc and iloc with Index"
   ]
  },
  {
   "cell_type": "markdown",
   "id": "755fdf39",
   "metadata": {},
   "source": [
    "    data = {'Date': ['10/2/2020', '11/2/2020', '12/2/2020', '13/2/2020'],\n",
    "           'Event': ['Computer Science', 'Math', 'Biology', 'Astronomy'], \n",
    "            'Cost': [10000, 5000, 15000, 2000]}\n",
    "\n",
    "    df = pd.DataFrame(data)\n",
    "    df.set_index('Date', inplace=True)\n",
    "    df.head(10)"
   ]
  },
  {
   "cell_type": "code",
   "execution_count": 32,
   "id": "73811a44",
   "metadata": {},
   "outputs": [
    {
     "data": {
      "text/html": [
       "<div>\n",
       "<style scoped>\n",
       "    .dataframe tbody tr th:only-of-type {\n",
       "        vertical-align: middle;\n",
       "    }\n",
       "\n",
       "    .dataframe tbody tr th {\n",
       "        vertical-align: top;\n",
       "    }\n",
       "\n",
       "    .dataframe thead th {\n",
       "        text-align: right;\n",
       "    }\n",
       "</style>\n",
       "<table border=\"1\" class=\"dataframe\">\n",
       "  <thead>\n",
       "    <tr style=\"text-align: right;\">\n",
       "      <th></th>\n",
       "      <th>Event</th>\n",
       "      <th>Cost</th>\n",
       "    </tr>\n",
       "    <tr>\n",
       "      <th>Date</th>\n",
       "      <th></th>\n",
       "      <th></th>\n",
       "    </tr>\n",
       "  </thead>\n",
       "  <tbody>\n",
       "    <tr>\n",
       "      <th>10/2/2020</th>\n",
       "      <td>Computer Science</td>\n",
       "      <td>10000</td>\n",
       "    </tr>\n",
       "    <tr>\n",
       "      <th>11/2/2020</th>\n",
       "      <td>Math</td>\n",
       "      <td>5000</td>\n",
       "    </tr>\n",
       "    <tr>\n",
       "      <th>12/2/2020</th>\n",
       "      <td>Biology</td>\n",
       "      <td>15000</td>\n",
       "    </tr>\n",
       "    <tr>\n",
       "      <th>13/2/2020</th>\n",
       "      <td>Astronomy</td>\n",
       "      <td>2000</td>\n",
       "    </tr>\n",
       "  </tbody>\n",
       "</table>\n",
       "</div>"
      ],
      "text/plain": [
       "                      Event   Cost\n",
       "Date                              \n",
       "10/2/2020  Computer Science  10000\n",
       "11/2/2020              Math   5000\n",
       "12/2/2020           Biology  15000\n",
       "13/2/2020         Astronomy   2000"
      ]
     },
     "execution_count": 32,
     "metadata": {},
     "output_type": "execute_result"
    }
   ],
   "source": [
    "data = {'Date': ['10/2/2020', '11/2/2020', '12/2/2020', '13/2/2020'],\n",
    "       'Event': ['Computer Science', 'Math', 'Biology', 'Astronomy'], \n",
    "        'Cost': [10000, 5000, 15000, 2000]}\n",
    "\n",
    "df = pd.DataFrame(data)\n",
    "df.set_index('Date', inplace=True)\n",
    "df.head(10)"
   ]
  },
  {
   "cell_type": "markdown",
   "id": "4417d116",
   "metadata": {},
   "source": [
    "    df.iloc[:3,1]\n",
    "    df.loc['12/2/2020','Event']\n",
    "    df.loc['11/2/2020', 'Cost']\n",
    "    df.iloc[:2,0]"
   ]
  },
  {
   "cell_type": "code",
   "execution_count": 33,
   "id": "e01e8fab",
   "metadata": {},
   "outputs": [
    {
     "data": {
      "text/plain": [
       "Date\n",
       "10/2/2020    10000\n",
       "11/2/2020     5000\n",
       "12/2/2020    15000\n",
       "Name: Cost, dtype: int64"
      ]
     },
     "execution_count": 33,
     "metadata": {},
     "output_type": "execute_result"
    }
   ],
   "source": [
    "df.iloc[:3,1]"
   ]
  },
  {
   "cell_type": "code",
   "execution_count": 34,
   "id": "64312d41",
   "metadata": {},
   "outputs": [
    {
     "data": {
      "text/plain": [
       "'Biology'"
      ]
     },
     "execution_count": 34,
     "metadata": {},
     "output_type": "execute_result"
    }
   ],
   "source": [
    "df.loc['12/2/2020','Event']"
   ]
  },
  {
   "cell_type": "code",
   "execution_count": 35,
   "id": "954dcefb",
   "metadata": {},
   "outputs": [
    {
     "data": {
      "text/plain": [
       "5000"
      ]
     },
     "execution_count": 35,
     "metadata": {},
     "output_type": "execute_result"
    }
   ],
   "source": [
    "df.loc['11/2/2020', 'Cost']"
   ]
  },
  {
   "cell_type": "code",
   "execution_count": 36,
   "id": "6624895f",
   "metadata": {},
   "outputs": [
    {
     "data": {
      "text/plain": [
       "Date\n",
       "10/2/2020    Computer Science\n",
       "11/2/2020                Math\n",
       "Name: Event, dtype: object"
      ]
     },
     "execution_count": 36,
     "metadata": {},
     "output_type": "execute_result"
    }
   ],
   "source": [
    "df.iloc[:2,0]"
   ]
  },
  {
   "cell_type": "markdown",
   "id": "1a962f65",
   "metadata": {},
   "source": [
    "### 10. GroupBy Operation"
   ]
  },
  {
   "cell_type": "markdown",
   "id": "74fa3681",
   "metadata": {},
   "source": [
    "    drinks = pd.read_csv('./drinks.csv')\n",
    "    drinks.head(10)"
   ]
  },
  {
   "cell_type": "code",
   "execution_count": 37,
   "id": "bab007f5",
   "metadata": {},
   "outputs": [
    {
     "data": {
      "text/html": [
       "<div>\n",
       "<style scoped>\n",
       "    .dataframe tbody tr th:only-of-type {\n",
       "        vertical-align: middle;\n",
       "    }\n",
       "\n",
       "    .dataframe tbody tr th {\n",
       "        vertical-align: top;\n",
       "    }\n",
       "\n",
       "    .dataframe thead th {\n",
       "        text-align: right;\n",
       "    }\n",
       "</style>\n",
       "<table border=\"1\" class=\"dataframe\">\n",
       "  <thead>\n",
       "    <tr style=\"text-align: right;\">\n",
       "      <th></th>\n",
       "      <th>country</th>\n",
       "      <th>beer_servings</th>\n",
       "      <th>spirit_servings</th>\n",
       "      <th>wine_servings</th>\n",
       "      <th>total_litres_of_pure_alcohol</th>\n",
       "      <th>continent</th>\n",
       "    </tr>\n",
       "  </thead>\n",
       "  <tbody>\n",
       "    <tr>\n",
       "      <th>0</th>\n",
       "      <td>Afghanistan</td>\n",
       "      <td>0</td>\n",
       "      <td>0</td>\n",
       "      <td>0</td>\n",
       "      <td>0.0</td>\n",
       "      <td>Asia</td>\n",
       "    </tr>\n",
       "    <tr>\n",
       "      <th>1</th>\n",
       "      <td>Albania</td>\n",
       "      <td>89</td>\n",
       "      <td>132</td>\n",
       "      <td>54</td>\n",
       "      <td>4.9</td>\n",
       "      <td>Europe</td>\n",
       "    </tr>\n",
       "    <tr>\n",
       "      <th>2</th>\n",
       "      <td>Algeria</td>\n",
       "      <td>25</td>\n",
       "      <td>0</td>\n",
       "      <td>14</td>\n",
       "      <td>0.7</td>\n",
       "      <td>Africa</td>\n",
       "    </tr>\n",
       "    <tr>\n",
       "      <th>3</th>\n",
       "      <td>Andorra</td>\n",
       "      <td>245</td>\n",
       "      <td>138</td>\n",
       "      <td>312</td>\n",
       "      <td>12.4</td>\n",
       "      <td>Europe</td>\n",
       "    </tr>\n",
       "    <tr>\n",
       "      <th>4</th>\n",
       "      <td>Angola</td>\n",
       "      <td>217</td>\n",
       "      <td>57</td>\n",
       "      <td>45</td>\n",
       "      <td>5.9</td>\n",
       "      <td>Africa</td>\n",
       "    </tr>\n",
       "    <tr>\n",
       "      <th>5</th>\n",
       "      <td>Antigua &amp; Barbuda</td>\n",
       "      <td>102</td>\n",
       "      <td>128</td>\n",
       "      <td>45</td>\n",
       "      <td>4.9</td>\n",
       "      <td>North America</td>\n",
       "    </tr>\n",
       "    <tr>\n",
       "      <th>6</th>\n",
       "      <td>Argentina</td>\n",
       "      <td>193</td>\n",
       "      <td>25</td>\n",
       "      <td>221</td>\n",
       "      <td>8.3</td>\n",
       "      <td>South America</td>\n",
       "    </tr>\n",
       "    <tr>\n",
       "      <th>7</th>\n",
       "      <td>Armenia</td>\n",
       "      <td>21</td>\n",
       "      <td>179</td>\n",
       "      <td>11</td>\n",
       "      <td>3.8</td>\n",
       "      <td>Europe</td>\n",
       "    </tr>\n",
       "    <tr>\n",
       "      <th>8</th>\n",
       "      <td>Australia</td>\n",
       "      <td>261</td>\n",
       "      <td>72</td>\n",
       "      <td>212</td>\n",
       "      <td>10.4</td>\n",
       "      <td>Oceania</td>\n",
       "    </tr>\n",
       "    <tr>\n",
       "      <th>9</th>\n",
       "      <td>Austria</td>\n",
       "      <td>279</td>\n",
       "      <td>75</td>\n",
       "      <td>191</td>\n",
       "      <td>9.7</td>\n",
       "      <td>Europe</td>\n",
       "    </tr>\n",
       "  </tbody>\n",
       "</table>\n",
       "</div>"
      ],
      "text/plain": [
       "             country  beer_servings  spirit_servings  wine_servings  \\\n",
       "0        Afghanistan              0                0              0   \n",
       "1            Albania             89              132             54   \n",
       "2            Algeria             25                0             14   \n",
       "3            Andorra            245              138            312   \n",
       "4             Angola            217               57             45   \n",
       "5  Antigua & Barbuda            102              128             45   \n",
       "6          Argentina            193               25            221   \n",
       "7            Armenia             21              179             11   \n",
       "8          Australia            261               72            212   \n",
       "9            Austria            279               75            191   \n",
       "\n",
       "   total_litres_of_pure_alcohol      continent  \n",
       "0                           0.0           Asia  \n",
       "1                           4.9         Europe  \n",
       "2                           0.7         Africa  \n",
       "3                          12.4         Europe  \n",
       "4                           5.9         Africa  \n",
       "5                           4.9  North America  \n",
       "6                           8.3  South America  \n",
       "7                           3.8         Europe  \n",
       "8                          10.4        Oceania  \n",
       "9                           9.7         Europe  "
      ]
     },
     "execution_count": 37,
     "metadata": {},
     "output_type": "execute_result"
    }
   ],
   "source": [
    "drinks = pd.read_csv('./drinks.csv')\n",
    "drinks.head(10)"
   ]
  },
  {
   "cell_type": "markdown",
   "id": "a2dc47ef",
   "metadata": {},
   "source": [
    "    # What's the average beer servings across all countries?\n",
    "    drinks['beer_servings'].mean()"
   ]
  },
  {
   "cell_type": "code",
   "execution_count": 38,
   "id": "9d9340e7",
   "metadata": {},
   "outputs": [
    {
     "data": {
      "text/plain": [
       "106.16062176165804"
      ]
     },
     "execution_count": 38,
     "metadata": {},
     "output_type": "execute_result"
    }
   ],
   "source": [
    "# What's the average beer servings across all countries?\n",
    "drinks['beer_servings'].mean()"
   ]
  },
  {
   "cell_type": "markdown",
   "id": "eb23c6e0",
   "metadata": {},
   "source": [
    "#### 10-1. What's the average beer servings by continents? (between Asia, Europe, Africa, NA, etc.)\n",
    "Filter data by continent. <br />\n",
    "Use groupby method when we want to analyze groups of data by some categories. <br />\n",
    "For each continent, what's the mean of beer servings?"
   ]
  },
  {
   "cell_type": "markdown",
   "id": "c1d0da4b",
   "metadata": {},
   "source": [
    "    drinks.groupby('continent')['beer_servings'].mean()\n",
    "\n",
    "    drinks[drinks['continent'] == 'Africa']['beer_servings'].mean()\n",
    "\n",
    "    drinks[drinks['continent'] == 'Asia']['beer_servings'].mean()\n",
    "\n",
    "    drinks[drinks['continent'] == 'Europe']['beer_servings'].mean()\n",
    "\n",
    "    drinks[drinks['continent'] == 'North America']['beer_servings'].mean()\n",
    "\n",
    "    drinks[drinks['continent'] == 'Oceania']['beer_servings'].mean()\n",
    "\n",
    "    drinks[drinks['continent'] == 'South America']['beer_servings'].mean()"
   ]
  },
  {
   "cell_type": "code",
   "execution_count": 39,
   "id": "0eba022c",
   "metadata": {},
   "outputs": [
    {
     "data": {
      "text/plain": [
       "175.08333333333334"
      ]
     },
     "execution_count": 39,
     "metadata": {},
     "output_type": "execute_result"
    }
   ],
   "source": [
    "drinks.groupby('continent')['beer_servings'].mean()\n",
    "\n",
    "drinks[drinks['continent'] == 'Africa']['beer_servings'].mean()\n",
    "\n",
    "drinks[drinks['continent'] == 'Asia']['beer_servings'].mean()\n",
    "\n",
    "drinks[drinks['continent'] == 'Europe']['beer_servings'].mean()\n",
    "\n",
    "drinks[drinks['continent'] == 'North America']['beer_servings'].mean()\n",
    "\n",
    "drinks[drinks['continent'] == 'Oceania']['beer_servings'].mean()\n",
    "\n",
    "drinks[drinks['continent'] == 'South America']['beer_servings'].mean()"
   ]
  },
  {
   "cell_type": "markdown",
   "id": "7542a362",
   "metadata": {},
   "source": [
    "#### 10-2. Calculate means of all of numeric columns"
   ]
  },
  {
   "cell_type": "markdown",
   "id": "5386d1df",
   "metadata": {},
   "source": [
    "    drinks.groupby('continent').mean()\n",
    "\n",
    "    %matplotlib inline\n",
    "\n",
    "    drinks.groupby('continent').mean().plot(kind='bar')"
   ]
  },
  {
   "cell_type": "code",
   "execution_count": 40,
   "id": "8e366f1f",
   "metadata": {},
   "outputs": [
    {
     "data": {
      "text/plain": [
       "<AxesSubplot:xlabel='continent'>"
      ]
     },
     "execution_count": 40,
     "metadata": {},
     "output_type": "execute_result"
    },
    {
     "data": {
      "image/png": "[encoded data removed]",
      "text/plain": [
       "<Figure size 432x288 with 1 Axes>"
      ]
     },
     "metadata": {
      "needs_background": "light"
     },
     "output_type": "display_data"
    }
   ],
   "source": [
    "drinks.groupby('continent').mean()\n",
    "\n",
    "%matplotlib inline\n",
    "\n",
    "drinks.groupby('continent').mean().plot(kind='bar')"
   ]
  },
  {
   "cell_type": "markdown",
   "id": "70efdb7e",
   "metadata": {},
   "source": [
    "    # aggregate method\n",
    "\n",
    "    drinks.groupby('continent')['beer_servings'].agg(['count', 'min', 'max', 'mean'])"
   ]
  },
  {
   "cell_type": "code",
   "execution_count": 41,
   "id": "5847984b",
   "metadata": {},
   "outputs": [
    {
     "data": {
      "text/html": [
       "<div>\n",
       "<style scoped>\n",
       "    .dataframe tbody tr th:only-of-type {\n",
       "        vertical-align: middle;\n",
       "    }\n",
       "\n",
       "    .dataframe tbody tr th {\n",
       "        vertical-align: top;\n",
       "    }\n",
       "\n",
       "    .dataframe thead th {\n",
       "        text-align: right;\n",
       "    }\n",
       "</style>\n",
       "<table border=\"1\" class=\"dataframe\">\n",
       "  <thead>\n",
       "    <tr style=\"text-align: right;\">\n",
       "      <th></th>\n",
       "      <th>count</th>\n",
       "      <th>min</th>\n",
       "      <th>max</th>\n",
       "      <th>mean</th>\n",
       "    </tr>\n",
       "    <tr>\n",
       "      <th>continent</th>\n",
       "      <th></th>\n",
       "      <th></th>\n",
       "      <th></th>\n",
       "      <th></th>\n",
       "    </tr>\n",
       "  </thead>\n",
       "  <tbody>\n",
       "    <tr>\n",
       "      <th>Africa</th>\n",
       "      <td>53</td>\n",
       "      <td>0</td>\n",
       "      <td>376</td>\n",
       "      <td>61.471698</td>\n",
       "    </tr>\n",
       "    <tr>\n",
       "      <th>Asia</th>\n",
       "      <td>44</td>\n",
       "      <td>0</td>\n",
       "      <td>247</td>\n",
       "      <td>37.045455</td>\n",
       "    </tr>\n",
       "    <tr>\n",
       "      <th>Europe</th>\n",
       "      <td>45</td>\n",
       "      <td>0</td>\n",
       "      <td>361</td>\n",
       "      <td>193.777778</td>\n",
       "    </tr>\n",
       "    <tr>\n",
       "      <th>North America</th>\n",
       "      <td>23</td>\n",
       "      <td>1</td>\n",
       "      <td>285</td>\n",
       "      <td>145.434783</td>\n",
       "    </tr>\n",
       "    <tr>\n",
       "      <th>Oceania</th>\n",
       "      <td>16</td>\n",
       "      <td>0</td>\n",
       "      <td>306</td>\n",
       "      <td>89.687500</td>\n",
       "    </tr>\n",
       "    <tr>\n",
       "      <th>South America</th>\n",
       "      <td>12</td>\n",
       "      <td>93</td>\n",
       "      <td>333</td>\n",
       "      <td>175.083333</td>\n",
       "    </tr>\n",
       "  </tbody>\n",
       "</table>\n",
       "</div>"
      ],
      "text/plain": [
       "               count  min  max        mean\n",
       "continent                                 \n",
       "Africa            53    0  376   61.471698\n",
       "Asia              44    0  247   37.045455\n",
       "Europe            45    0  361  193.777778\n",
       "North America     23    1  285  145.434783\n",
       "Oceania           16    0  306   89.687500\n",
       "South America     12   93  333  175.083333"
      ]
     },
     "execution_count": 41,
     "metadata": {},
     "output_type": "execute_result"
    }
   ],
   "source": [
    "# aggregate method\n",
    "\n",
    "drinks.groupby('continent')['beer_servings'].agg(['count', 'min', 'max', 'mean'])"
   ]
  },
  {
   "cell_type": "markdown",
   "id": "9eaa8d64",
   "metadata": {},
   "source": [
    "## Interactive Plots"
   ]
  },
  {
   "cell_type": "markdown",
   "id": "b07f8ab3",
   "metadata": {},
   "source": [
    "    %matplotlib inline\n",
    "\n",
    "    def plot_func(a, f):\n",
    "        plt.figure(2)\n",
    "        x = np.linspace(0, 2*np.pi, num=1000)\n",
    "        y = a*np.sin(1/f*x)\n",
    "        plt.plot(x,y)\n",
    "        plt.ylim(-1.1, 1.1)\n",
    "        plt.title('a sin(f)')\n",
    "        plt.show()\n",
    "\n",
    "    interactive_plot = interactive(plot_func, a=(-1,0,0.1), f=(0.1, 1))\n",
    "    output = interactive_plot.children[-1]\n",
    "    output.layout.height = '300px'\n",
    "    interactive_plot"
   ]
  },
  {
   "cell_type": "code",
   "execution_count": 42,
   "id": "73f15edb",
   "metadata": {},
   "outputs": [
    {
     "data": {
      "application/vnd.jupyter.widget-view+json": {
       "model_id": "33e3893cce754beea232182722353c15",
       "version_major": 2,
       "version_minor": 0
      },
      "text/plain": [
       "interactive(children=(FloatSlider(value=-1.0, description='a', max=0.0, min=-1.0), FloatSlider(value=0.55, des…"
      ]
     },
     "metadata": {},
     "output_type": "display_data"
    }
   ],
   "source": [
    "%matplotlib inline\n",
    "\n",
    "def plot_func(a, f):\n",
    "    plt.figure(2)\n",
    "    x = np.linspace(0, 2*np.pi, num=1000)\n",
    "    y = a*np.sin(1/f*x)\n",
    "    plt.plot(x,y)\n",
    "    plt.ylim(-1.1, 1.1)\n",
    "    plt.title('a sin(f)')\n",
    "    plt.show()\n",
    "\n",
    "interactive_plot = interactive(plot_func, a=(-1,0,0.1), f=(0.1, 1))\n",
    "output = interactive_plot.children[-1]\n",
    "output.layout.height = '300px'\n",
    "interactive_plot"
   ]
  },
  {
   "cell_type": "code",
   "execution_count": null,
   "id": "fa5dea08",
   "metadata": {},
   "outputs": [],
   "source": []
  }
 ],
 "metadata": {
  "kernelspec": {
   "display_name": "Python 3",
   "language": "python",
   "name": "python3"
  },
  "language_info": {
   "codemirror_mode": {
    "name": "ipython",
    "version": 3
   },
   "file_extension": ".py",
   "mimetype": "text/x-python",
   "name": "python",
   "nbconvert_exporter": "python",
   "pygments_lexer": "ipython3",
   "version": "3.9.1"
  }
 },
 "nbformat": 4,
 "nbformat_minor": 5
}
