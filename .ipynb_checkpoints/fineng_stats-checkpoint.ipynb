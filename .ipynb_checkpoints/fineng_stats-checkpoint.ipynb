{
 "cells": [
  {
   "cell_type": "code",
   "execution_count": 1,
   "metadata": {},
   "outputs": [],
   "source": [
    "import pandas_datareader as pdr\n",
    "import pandas as pd\n",
    "import numpy as np\n",
    "import matplotlib.pyplot as plt\n",
    "import datetime as dt"
   ]
  },
  {
   "cell_type": "code",
   "execution_count": 2,
   "metadata": {},
   "outputs": [
    {
     "data": {
      "text/html": [
       "<div>\n",
       "<style scoped>\n",
       "    .dataframe tbody tr th:only-of-type {\n",
       "        vertical-align: middle;\n",
       "    }\n",
       "\n",
       "    .dataframe tbody tr th {\n",
       "        vertical-align: top;\n",
       "    }\n",
       "\n",
       "    .dataframe thead th {\n",
       "        text-align: right;\n",
       "    }\n",
       "</style>\n",
       "<table border=\"1\" class=\"dataframe\">\n",
       "  <thead>\n",
       "    <tr style=\"text-align: right;\">\n",
       "      <th></th>\n",
       "      <th>TSLA</th>\n",
       "      <th>GOOG</th>\n",
       "      <th>BA</th>\n",
       "      <th>DPZ</th>\n",
       "    </tr>\n",
       "    <tr>\n",
       "      <th>Date</th>\n",
       "      <th></th>\n",
       "      <th></th>\n",
       "      <th></th>\n",
       "      <th></th>\n",
       "    </tr>\n",
       "  </thead>\n",
       "  <tbody>\n",
       "    <tr>\n",
       "      <th>2010-06-29</th>\n",
       "      <td>4.778000</td>\n",
       "      <td>226.281845</td>\n",
       "      <td>49.745514</td>\n",
       "      <td>9.319656</td>\n",
       "    </tr>\n",
       "    <tr>\n",
       "      <th>2010-06-30</th>\n",
       "      <td>4.766000</td>\n",
       "      <td>221.644226</td>\n",
       "      <td>49.516666</td>\n",
       "      <td>9.582539</td>\n",
       "    </tr>\n",
       "    <tr>\n",
       "      <th>2010-07-01</th>\n",
       "      <td>4.392000</td>\n",
       "      <td>218.924423</td>\n",
       "      <td>49.130005</td>\n",
       "      <td>9.591019</td>\n",
       "    </tr>\n",
       "    <tr>\n",
       "      <th>2010-07-02</th>\n",
       "      <td>3.840000</td>\n",
       "      <td>217.459900</td>\n",
       "      <td>48.877480</td>\n",
       "      <td>9.752140</td>\n",
       "    </tr>\n",
       "    <tr>\n",
       "      <th>2010-07-06</th>\n",
       "      <td>3.222000</td>\n",
       "      <td>217.220810</td>\n",
       "      <td>48.419815</td>\n",
       "      <td>9.463817</td>\n",
       "    </tr>\n",
       "    <tr>\n",
       "      <th>...</th>\n",
       "      <td>...</td>\n",
       "      <td>...</td>\n",
       "      <td>...</td>\n",
       "      <td>...</td>\n",
       "    </tr>\n",
       "    <tr>\n",
       "      <th>2021-05-28</th>\n",
       "      <td>625.219971</td>\n",
       "      <td>2411.560059</td>\n",
       "      <td>247.020004</td>\n",
       "      <td>426.869995</td>\n",
       "    </tr>\n",
       "    <tr>\n",
       "      <th>2021-06-01</th>\n",
       "      <td>623.900024</td>\n",
       "      <td>2429.810059</td>\n",
       "      <td>254.729996</td>\n",
       "      <td>423.000000</td>\n",
       "    </tr>\n",
       "    <tr>\n",
       "      <th>2021-06-02</th>\n",
       "      <td>605.119995</td>\n",
       "      <td>2421.280029</td>\n",
       "      <td>255.619995</td>\n",
       "      <td>426.200012</td>\n",
       "    </tr>\n",
       "    <tr>\n",
       "      <th>2021-06-03</th>\n",
       "      <td>572.840027</td>\n",
       "      <td>2404.610107</td>\n",
       "      <td>250.320007</td>\n",
       "      <td>425.119995</td>\n",
       "    </tr>\n",
       "    <tr>\n",
       "      <th>2021-06-04</th>\n",
       "      <td>599.049988</td>\n",
       "      <td>2451.760010</td>\n",
       "      <td>249.919998</td>\n",
       "      <td>431.140015</td>\n",
       "    </tr>\n",
       "  </tbody>\n",
       "</table>\n",
       "<p>2753 rows × 4 columns</p>\n",
       "</div>"
      ],
      "text/plain": [
       "                  TSLA         GOOG          BA         DPZ\n",
       "Date                                                       \n",
       "2010-06-29    4.778000   226.281845   49.745514    9.319656\n",
       "2010-06-30    4.766000   221.644226   49.516666    9.582539\n",
       "2010-07-01    4.392000   218.924423   49.130005    9.591019\n",
       "2010-07-02    3.840000   217.459900   48.877480    9.752140\n",
       "2010-07-06    3.222000   217.220810   48.419815    9.463817\n",
       "...                ...          ...         ...         ...\n",
       "2021-05-28  625.219971  2411.560059  247.020004  426.869995\n",
       "2021-06-01  623.900024  2429.810059  254.729996  423.000000\n",
       "2021-06-02  605.119995  2421.280029  255.619995  426.200012\n",
       "2021-06-03  572.840027  2404.610107  250.320007  425.119995\n",
       "2021-06-04  599.049988  2451.760010  249.919998  431.140015\n",
       "\n",
       "[2753 rows x 4 columns]"
      ]
     },
     "execution_count": 2,
     "metadata": {},
     "output_type": "execute_result"
    }
   ],
   "source": [
    "stocks = ['TSLA', 'GOOG', 'BA', 'DPZ']\n",
    "\n",
    "\n",
    "START_DATE = dt.datetime(1970,1,1)\n",
    "END_DATE = dt.datetime.today()\n",
    "\n",
    "df = pd.DataFrame()\n",
    "\n",
    "for stock in stocks:\n",
    "    df[stock] = pdr.DataReader(stock, 'yahoo', START_DATE, END_DATE)['Adj Close']\n",
    "\n",
    "df"
   ]
  },
  {
   "cell_type": "code",
   "execution_count": 3,
   "metadata": {},
   "outputs": [
    {
     "data": {
      "text/html": [
       "<div>\n",
       "<style scoped>\n",
       "    .dataframe tbody tr th:only-of-type {\n",
       "        vertical-align: middle;\n",
       "    }\n",
       "\n",
       "    .dataframe tbody tr th {\n",
       "        vertical-align: top;\n",
       "    }\n",
       "\n",
       "    .dataframe thead th {\n",
       "        text-align: right;\n",
       "    }\n",
       "</style>\n",
       "<table border=\"1\" class=\"dataframe\">\n",
       "  <thead>\n",
       "    <tr style=\"text-align: right;\">\n",
       "      <th></th>\n",
       "      <th>TSLA</th>\n",
       "      <th>GOOG</th>\n",
       "      <th>BA</th>\n",
       "      <th>DPZ</th>\n",
       "    </tr>\n",
       "    <tr>\n",
       "      <th>Date</th>\n",
       "      <th></th>\n",
       "      <th></th>\n",
       "      <th></th>\n",
       "      <th></th>\n",
       "    </tr>\n",
       "  </thead>\n",
       "  <tbody>\n",
       "    <tr>\n",
       "      <th>2010-06-29</th>\n",
       "      <td>NaN</td>\n",
       "      <td>NaN</td>\n",
       "      <td>NaN</td>\n",
       "      <td>NaN</td>\n",
       "    </tr>\n",
       "    <tr>\n",
       "      <th>2010-06-30</th>\n",
       "      <td>-0.002512</td>\n",
       "      <td>-0.020495</td>\n",
       "      <td>-0.004600</td>\n",
       "      <td>0.028207</td>\n",
       "    </tr>\n",
       "    <tr>\n",
       "      <th>2010-07-01</th>\n",
       "      <td>-0.078472</td>\n",
       "      <td>-0.012271</td>\n",
       "      <td>-0.007809</td>\n",
       "      <td>0.000885</td>\n",
       "    </tr>\n",
       "    <tr>\n",
       "      <th>2010-07-02</th>\n",
       "      <td>-0.125683</td>\n",
       "      <td>-0.006690</td>\n",
       "      <td>-0.005140</td>\n",
       "      <td>0.016799</td>\n",
       "    </tr>\n",
       "    <tr>\n",
       "      <th>2010-07-06</th>\n",
       "      <td>-0.160938</td>\n",
       "      <td>-0.001099</td>\n",
       "      <td>-0.009364</td>\n",
       "      <td>-0.029565</td>\n",
       "    </tr>\n",
       "    <tr>\n",
       "      <th>...</th>\n",
       "      <td>...</td>\n",
       "      <td>...</td>\n",
       "      <td>...</td>\n",
       "      <td>...</td>\n",
       "    </tr>\n",
       "    <tr>\n",
       "      <th>2021-05-28</th>\n",
       "      <td>-0.008924</td>\n",
       "      <td>0.003767</td>\n",
       "      <td>-0.014679</td>\n",
       "      <td>0.006840</td>\n",
       "    </tr>\n",
       "    <tr>\n",
       "      <th>2021-06-01</th>\n",
       "      <td>-0.002111</td>\n",
       "      <td>0.007568</td>\n",
       "      <td>0.031212</td>\n",
       "      <td>-0.009066</td>\n",
       "    </tr>\n",
       "    <tr>\n",
       "      <th>2021-06-02</th>\n",
       "      <td>-0.030101</td>\n",
       "      <td>-0.003511</td>\n",
       "      <td>0.003494</td>\n",
       "      <td>0.007565</td>\n",
       "    </tr>\n",
       "    <tr>\n",
       "      <th>2021-06-03</th>\n",
       "      <td>-0.053345</td>\n",
       "      <td>-0.006885</td>\n",
       "      <td>-0.020734</td>\n",
       "      <td>-0.002534</td>\n",
       "    </tr>\n",
       "    <tr>\n",
       "      <th>2021-06-04</th>\n",
       "      <td>0.045754</td>\n",
       "      <td>0.019608</td>\n",
       "      <td>-0.001598</td>\n",
       "      <td>0.014161</td>\n",
       "    </tr>\n",
       "  </tbody>\n",
       "</table>\n",
       "<p>2753 rows × 4 columns</p>\n",
       "</div>"
      ],
      "text/plain": [
       "                TSLA      GOOG        BA       DPZ\n",
       "Date                                              \n",
       "2010-06-29       NaN       NaN       NaN       NaN\n",
       "2010-06-30 -0.002512 -0.020495 -0.004600  0.028207\n",
       "2010-07-01 -0.078472 -0.012271 -0.007809  0.000885\n",
       "2010-07-02 -0.125683 -0.006690 -0.005140  0.016799\n",
       "2010-07-06 -0.160938 -0.001099 -0.009364 -0.029565\n",
       "...              ...       ...       ...       ...\n",
       "2021-05-28 -0.008924  0.003767 -0.014679  0.006840\n",
       "2021-06-01 -0.002111  0.007568  0.031212 -0.009066\n",
       "2021-06-02 -0.030101 -0.003511  0.003494  0.007565\n",
       "2021-06-03 -0.053345 -0.006885 -0.020734 -0.002534\n",
       "2021-06-04  0.045754  0.019608 -0.001598  0.014161\n",
       "\n",
       "[2753 rows x 4 columns]"
      ]
     },
     "execution_count": 3,
     "metadata": {},
     "output_type": "execute_result"
    }
   ],
   "source": [
    "daily_returns = df.pct_change()\n",
    "daily_returns"
   ]
  },
  {
   "cell_type": "code",
   "execution_count": 4,
   "metadata": {},
   "outputs": [
    {
     "data": {
      "text/html": [
       "<div>\n",
       "<style scoped>\n",
       "    .dataframe tbody tr th:only-of-type {\n",
       "        vertical-align: middle;\n",
       "    }\n",
       "\n",
       "    .dataframe tbody tr th {\n",
       "        vertical-align: top;\n",
       "    }\n",
       "\n",
       "    .dataframe thead th {\n",
       "        text-align: right;\n",
       "    }\n",
       "</style>\n",
       "<table border=\"1\" class=\"dataframe\">\n",
       "  <thead>\n",
       "    <tr style=\"text-align: right;\">\n",
       "      <th></th>\n",
       "      <th>TSLA</th>\n",
       "      <th>GOOG</th>\n",
       "      <th>BA</th>\n",
       "      <th>DPZ</th>\n",
       "      <th>EWP</th>\n",
       "    </tr>\n",
       "    <tr>\n",
       "      <th>Date</th>\n",
       "      <th></th>\n",
       "      <th></th>\n",
       "      <th></th>\n",
       "      <th></th>\n",
       "      <th></th>\n",
       "    </tr>\n",
       "  </thead>\n",
       "  <tbody>\n",
       "    <tr>\n",
       "      <th>2010-06-29</th>\n",
       "      <td>NaN</td>\n",
       "      <td>NaN</td>\n",
       "      <td>NaN</td>\n",
       "      <td>NaN</td>\n",
       "      <td>NaN</td>\n",
       "    </tr>\n",
       "    <tr>\n",
       "      <th>2010-06-30</th>\n",
       "      <td>-0.002512</td>\n",
       "      <td>-0.020495</td>\n",
       "      <td>-0.004600</td>\n",
       "      <td>0.028207</td>\n",
       "      <td>0.000150</td>\n",
       "    </tr>\n",
       "    <tr>\n",
       "      <th>2010-07-01</th>\n",
       "      <td>-0.078472</td>\n",
       "      <td>-0.012271</td>\n",
       "      <td>-0.007809</td>\n",
       "      <td>0.000885</td>\n",
       "      <td>-0.024417</td>\n",
       "    </tr>\n",
       "    <tr>\n",
       "      <th>2010-07-02</th>\n",
       "      <td>-0.125683</td>\n",
       "      <td>-0.006690</td>\n",
       "      <td>-0.005140</td>\n",
       "      <td>0.016799</td>\n",
       "      <td>-0.030178</td>\n",
       "    </tr>\n",
       "    <tr>\n",
       "      <th>2010-07-06</th>\n",
       "      <td>-0.160938</td>\n",
       "      <td>-0.001099</td>\n",
       "      <td>-0.009364</td>\n",
       "      <td>-0.029565</td>\n",
       "      <td>-0.050241</td>\n",
       "    </tr>\n",
       "    <tr>\n",
       "      <th>...</th>\n",
       "      <td>...</td>\n",
       "      <td>...</td>\n",
       "      <td>...</td>\n",
       "      <td>...</td>\n",
       "      <td>...</td>\n",
       "    </tr>\n",
       "    <tr>\n",
       "      <th>2021-05-28</th>\n",
       "      <td>-0.008924</td>\n",
       "      <td>0.003767</td>\n",
       "      <td>-0.014679</td>\n",
       "      <td>0.006840</td>\n",
       "      <td>-0.003249</td>\n",
       "    </tr>\n",
       "    <tr>\n",
       "      <th>2021-06-01</th>\n",
       "      <td>-0.002111</td>\n",
       "      <td>0.007568</td>\n",
       "      <td>0.031212</td>\n",
       "      <td>-0.009066</td>\n",
       "      <td>0.006901</td>\n",
       "    </tr>\n",
       "    <tr>\n",
       "      <th>2021-06-02</th>\n",
       "      <td>-0.030101</td>\n",
       "      <td>-0.003511</td>\n",
       "      <td>0.003494</td>\n",
       "      <td>0.007565</td>\n",
       "      <td>-0.005638</td>\n",
       "    </tr>\n",
       "    <tr>\n",
       "      <th>2021-06-03</th>\n",
       "      <td>-0.053345</td>\n",
       "      <td>-0.006885</td>\n",
       "      <td>-0.020734</td>\n",
       "      <td>-0.002534</td>\n",
       "      <td>-0.020874</td>\n",
       "    </tr>\n",
       "    <tr>\n",
       "      <th>2021-06-04</th>\n",
       "      <td>0.045754</td>\n",
       "      <td>0.019608</td>\n",
       "      <td>-0.001598</td>\n",
       "      <td>0.014161</td>\n",
       "      <td>0.019481</td>\n",
       "    </tr>\n",
       "  </tbody>\n",
       "</table>\n",
       "<p>2753 rows × 5 columns</p>\n",
       "</div>"
      ],
      "text/plain": [
       "                TSLA      GOOG        BA       DPZ       EWP\n",
       "Date                                                        \n",
       "2010-06-29       NaN       NaN       NaN       NaN       NaN\n",
       "2010-06-30 -0.002512 -0.020495 -0.004600  0.028207  0.000150\n",
       "2010-07-01 -0.078472 -0.012271 -0.007809  0.000885 -0.024417\n",
       "2010-07-02 -0.125683 -0.006690 -0.005140  0.016799 -0.030178\n",
       "2010-07-06 -0.160938 -0.001099 -0.009364 -0.029565 -0.050241\n",
       "...              ...       ...       ...       ...       ...\n",
       "2021-05-28 -0.008924  0.003767 -0.014679  0.006840 -0.003249\n",
       "2021-06-01 -0.002111  0.007568  0.031212 -0.009066  0.006901\n",
       "2021-06-02 -0.030101 -0.003511  0.003494  0.007565 -0.005638\n",
       "2021-06-03 -0.053345 -0.006885 -0.020734 -0.002534 -0.020874\n",
       "2021-06-04  0.045754  0.019608 -0.001598  0.014161  0.019481\n",
       "\n",
       "[2753 rows x 5 columns]"
      ]
     },
     "execution_count": 4,
     "metadata": {},
     "output_type": "execute_result"
    }
   ],
   "source": [
    "weights = np.array([0.25, 0.25, 0.25, 0.25])\n",
    "daily_returns['EWP'] = daily_returns.dot(weights)\n",
    "daily_returns"
   ]
  },
  {
   "cell_type": "code",
   "execution_count": 5,
   "metadata": {},
   "outputs": [
    {
     "data": {
      "text/html": [
       "<div>\n",
       "<style scoped>\n",
       "    .dataframe tbody tr th:only-of-type {\n",
       "        vertical-align: middle;\n",
       "    }\n",
       "\n",
       "    .dataframe tbody tr th {\n",
       "        vertical-align: top;\n",
       "    }\n",
       "\n",
       "    .dataframe thead th {\n",
       "        text-align: right;\n",
       "    }\n",
       "</style>\n",
       "<table border=\"1\" class=\"dataframe\">\n",
       "  <thead>\n",
       "    <tr style=\"text-align: right;\">\n",
       "      <th></th>\n",
       "      <th>TSLA</th>\n",
       "      <th>GOOG</th>\n",
       "      <th>BA</th>\n",
       "      <th>DPZ</th>\n",
       "      <th>EWP</th>\n",
       "    </tr>\n",
       "    <tr>\n",
       "      <th>Date</th>\n",
       "      <th></th>\n",
       "      <th></th>\n",
       "      <th></th>\n",
       "      <th></th>\n",
       "      <th></th>\n",
       "    </tr>\n",
       "  </thead>\n",
       "  <tbody>\n",
       "    <tr>\n",
       "      <th>2010-06-29</th>\n",
       "      <td>1.000000</td>\n",
       "      <td>1.000000</td>\n",
       "      <td>1.000000</td>\n",
       "      <td>1.000000</td>\n",
       "      <td>1.000000</td>\n",
       "    </tr>\n",
       "    <tr>\n",
       "      <th>2010-06-30</th>\n",
       "      <td>0.997488</td>\n",
       "      <td>0.979505</td>\n",
       "      <td>0.995400</td>\n",
       "      <td>1.028207</td>\n",
       "      <td>1.000150</td>\n",
       "    </tr>\n",
       "    <tr>\n",
       "      <th>2010-07-01</th>\n",
       "      <td>0.919213</td>\n",
       "      <td>0.967486</td>\n",
       "      <td>0.987627</td>\n",
       "      <td>1.029117</td>\n",
       "      <td>0.975730</td>\n",
       "    </tr>\n",
       "    <tr>\n",
       "      <th>2010-07-02</th>\n",
       "      <td>0.803684</td>\n",
       "      <td>0.961013</td>\n",
       "      <td>0.982550</td>\n",
       "      <td>1.046406</td>\n",
       "      <td>0.946284</td>\n",
       "    </tr>\n",
       "    <tr>\n",
       "      <th>2010-07-06</th>\n",
       "      <td>0.674341</td>\n",
       "      <td>0.959957</td>\n",
       "      <td>0.973350</td>\n",
       "      <td>1.015468</td>\n",
       "      <td>0.898741</td>\n",
       "    </tr>\n",
       "    <tr>\n",
       "      <th>...</th>\n",
       "      <td>...</td>\n",
       "      <td>...</td>\n",
       "      <td>...</td>\n",
       "      <td>...</td>\n",
       "      <td>...</td>\n",
       "    </tr>\n",
       "    <tr>\n",
       "      <th>2021-05-28</th>\n",
       "      <td>130.853911</td>\n",
       "      <td>10.657329</td>\n",
       "      <td>4.965674</td>\n",
       "      <td>45.803190</td>\n",
       "      <td>37.599171</td>\n",
       "    </tr>\n",
       "    <tr>\n",
       "      <th>2021-06-01</th>\n",
       "      <td>130.577656</td>\n",
       "      <td>10.737981</td>\n",
       "      <td>5.120663</td>\n",
       "      <td>45.387940</td>\n",
       "      <td>37.858629</td>\n",
       "    </tr>\n",
       "    <tr>\n",
       "      <th>2021-06-02</th>\n",
       "      <td>126.647135</td>\n",
       "      <td>10.700284</td>\n",
       "      <td>5.138554</td>\n",
       "      <td>45.731301</td>\n",
       "      <td>37.645176</td>\n",
       "    </tr>\n",
       "    <tr>\n",
       "      <th>2021-06-03</th>\n",
       "      <td>119.891177</td>\n",
       "      <td>10.626615</td>\n",
       "      <td>5.032012</td>\n",
       "      <td>45.615415</td>\n",
       "      <td>36.859357</td>\n",
       "    </tr>\n",
       "    <tr>\n",
       "      <th>2021-06-04</th>\n",
       "      <td>125.376727</td>\n",
       "      <td>10.834983</td>\n",
       "      <td>5.023971</td>\n",
       "      <td>46.261364</td>\n",
       "      <td>37.577426</td>\n",
       "    </tr>\n",
       "  </tbody>\n",
       "</table>\n",
       "<p>2753 rows × 5 columns</p>\n",
       "</div>"
      ],
      "text/plain": [
       "                  TSLA       GOOG        BA        DPZ        EWP\n",
       "Date                                                             \n",
       "2010-06-29    1.000000   1.000000  1.000000   1.000000   1.000000\n",
       "2010-06-30    0.997488   0.979505  0.995400   1.028207   1.000150\n",
       "2010-07-01    0.919213   0.967486  0.987627   1.029117   0.975730\n",
       "2010-07-02    0.803684   0.961013  0.982550   1.046406   0.946284\n",
       "2010-07-06    0.674341   0.959957  0.973350   1.015468   0.898741\n",
       "...                ...        ...       ...        ...        ...\n",
       "2021-05-28  130.853911  10.657329  4.965674  45.803190  37.599171\n",
       "2021-06-01  130.577656  10.737981  5.120663  45.387940  37.858629\n",
       "2021-06-02  126.647135  10.700284  5.138554  45.731301  37.645176\n",
       "2021-06-03  119.891177  10.626615  5.032012  45.615415  36.859357\n",
       "2021-06-04  125.376727  10.834983  5.023971  46.261364  37.577426\n",
       "\n",
       "[2753 rows x 5 columns]"
      ]
     },
     "execution_count": 5,
     "metadata": {},
     "output_type": "execute_result"
    }
   ],
   "source": [
    "cumulative_returns = (1 + daily_returns).cumprod()\n",
    "cumulative_returns.fillna(1, inplace=True)\n",
    "cumulative_returns"
   ]
  },
  {
   "cell_type": "code",
   "execution_count": 6,
   "metadata": {},
   "outputs": [
    {
     "data": {
      "text/plain": [
       "<AxesSubplot:xlabel='Date'>"
      ]
     },
     "execution_count": 6,
     "metadata": {},
     "output_type": "execute_result"
    },
    {
     "data": {
      "image/png": "[encoded data removed]",
      "text/plain": [
       "<Figure size 432x288 with 1 Axes>"
      ]
     },
     "metadata": {
      "needs_background": "light"
     },
     "output_type": "display_data"
    }
   ],
   "source": [
    "portfolio_cumulative_returns = cumulative_returns['EWP']\n",
    "\n",
    "previous_peaks = portfolio_cumulative_returns.cummax()\n",
    "drawdown = (portfolio_cumulative_returns - previous_peaks) / previous_peaks\n",
    "drawdown.plot()"
   ]
  },
  {
   "cell_type": "code",
   "execution_count": 7,
   "metadata": {},
   "outputs": [
    {
     "data": {
      "text/plain": [
       "-0.47989661719713683"
      ]
     },
     "execution_count": 7,
     "metadata": {},
     "output_type": "execute_result"
    }
   ],
   "source": [
    "mdd = drawdown.min()\n",
    "mdd"
   ]
  },
  {
   "cell_type": "markdown",
   "metadata": {},
   "source": [
    "## Portfolio Return\n",
    "\n",
    "$ \\Huge R_{p} = \\Sigma_{i=1}^{n} = w_{i} r_{i}$"
   ]
  },
  {
   "cell_type": "code",
   "execution_count": 8,
   "metadata": {},
   "outputs": [
    {
     "data": {
      "text/plain": [
       "0.3449027259104327"
      ]
     },
     "execution_count": 8,
     "metadata": {},
     "output_type": "execute_result"
    }
   ],
   "source": [
    "# From daily returns of individual stocks to portfolio CAGR\n",
    "\n",
    "daily_returns = df.pct_change()\n",
    "\n",
    "cumulative_returns = (1 + daily_returns).cumprod()\n",
    "cumulative_returns.fillna(1,inplace=True)\n",
    "cagr = cumulative_returns**(252/len(cumulative_returns.index)) - 1\n",
    "\n",
    "portfolio_cagr = np.dot(cagr.iloc[-1,:],weights)\n",
    "portfolio_cagr"
   ]
  },
  {
   "cell_type": "markdown",
   "metadata": {},
   "source": [
    "## Correlation"
   ]
  },
  {
   "cell_type": "markdown",
   "metadata": {},
   "source": [
    "$ \\Huge Corr (R_{i},R_{j}) = \\frac{Cov (R_{i},R_{j})}{\\sigma_{i} \\sigma_{j}} $"
   ]
  },
  {
   "cell_type": "markdown",
   "metadata": {},
   "source": [
    "## Portfolio Volatility (Two Assets)"
   ]
  },
  {
   "cell_type": "markdown",
   "metadata": {},
   "source": [
    "$ \\LARGE \\sigma_{p} = \\sqrt{w_{1}^{2}\\sigma_{1}^{2} + w_{2}^{2}\\sigma_{2}^{2} + 2w_{1}w_{2}Cov_{1,2}} $"
   ]
  },
  {
   "cell_type": "code",
   "execution_count": 9,
   "metadata": {},
   "outputs": [
    {
     "data": {
      "text/plain": [
       "0.25328721201124516"
      ]
     },
     "execution_count": 9,
     "metadata": {},
     "output_type": "execute_result"
    }
   ],
   "source": [
    "# From daily returns to portfolio volatility\n",
    "\n",
    "cov_matrix = daily_returns.cov() * 252\n",
    "\n",
    "# Calculate the portfolio variance\n",
    "\n",
    "portfolio_vol = np.sqrt(np.dot(weights.T, np.dot(cov_matrix, weights)))\n",
    "portfolio_vol"
   ]
  },
  {
   "cell_type": "code",
   "execution_count": 10,
   "metadata": {},
   "outputs": [
    {
     "data": {
      "text/plain": [
       "1.3617060378678736"
      ]
     },
     "execution_count": 10,
     "metadata": {},
     "output_type": "execute_result"
    }
   ],
   "source": [
    "# Sharpe Ratio\n",
    "\n",
    "risk_free = 0.00\n",
    "\n",
    "portfolio_sharpe = (portfolio_cagr - risk_free) / portfolio_vol\n",
    "portfolio_sharpe"
   ]
  },
  {
   "cell_type": "markdown",
   "metadata": {},
   "source": [
    "## Portfolio Optimization with PyPortfolioOpt "
   ]
  },
  {
   "cell_type": "code",
   "execution_count": 11,
   "metadata": {},
   "outputs": [
    {
     "name": "stdout",
     "output_type": "stream",
     "text": [
      "Expected annual return: 41.0%\n",
      "Annual volatility: 24.8%\n",
      "Sharpe Ratio: 1.57\n"
     ]
    }
   ],
   "source": [
    "from pypfopt.efficient_frontier import EfficientFrontier\n",
    "from pypfopt import risk_models\n",
    "from pypfopt import expected_returns\n",
    "\n",
    "# Portfolio Optimization\n",
    "# Calculate the expected returns and the annualized sample covariance matrix\n",
    "\n",
    "mu = expected_returns.mean_historical_return(df)\n",
    "S = risk_models.sample_cov(df)\n",
    "\n",
    "# Optimize for max sharpe ratio\n",
    "ef = EfficientFrontier(mu, S)\n",
    "weights = ef.max_sharpe()\n",
    "cleaned_weights = ef.clean_weights()\n",
    "result = ef.portfolio_performance(verbose=True)"
   ]
  },
  {
   "cell_type": "code",
   "execution_count": 12,
   "metadata": {},
   "outputs": [],
   "source": [
    "data = {'Equally Weighted Portfolio': [(portfolio_cagr).round(2), (portfolio_vol).round(2), portfolio_sharpe.round(2)], \n",
    "        'Max Sharpe Portfolio': [(result[0]).round(2), (result[1]).round(2), result[2].round(2)]}"
   ]
  },
  {
   "cell_type": "code",
   "execution_count": 13,
   "metadata": {},
   "outputs": [
    {
     "data": {
      "text/html": [
       "<div>\n",
       "<style scoped>\n",
       "    .dataframe tbody tr th:only-of-type {\n",
       "        vertical-align: middle;\n",
       "    }\n",
       "\n",
       "    .dataframe tbody tr th {\n",
       "        vertical-align: top;\n",
       "    }\n",
       "\n",
       "    .dataframe thead th {\n",
       "        text-align: right;\n",
       "    }\n",
       "</style>\n",
       "<table border=\"1\" class=\"dataframe\">\n",
       "  <thead>\n",
       "    <tr style=\"text-align: right;\">\n",
       "      <th></th>\n",
       "      <th>Equally Weighted Portfolio</th>\n",
       "      <th>Max Sharpe Portfolio</th>\n",
       "    </tr>\n",
       "  </thead>\n",
       "  <tbody>\n",
       "    <tr>\n",
       "      <th>CAGR</th>\n",
       "      <td>0.34</td>\n",
       "      <td>0.41</td>\n",
       "    </tr>\n",
       "    <tr>\n",
       "      <th>Volatility</th>\n",
       "      <td>0.25</td>\n",
       "      <td>0.25</td>\n",
       "    </tr>\n",
       "    <tr>\n",
       "      <th>Sharpe Ratio</th>\n",
       "      <td>1.36</td>\n",
       "      <td>1.57</td>\n",
       "    </tr>\n",
       "  </tbody>\n",
       "</table>\n",
       "</div>"
      ],
      "text/plain": [
       "              Equally Weighted Portfolio  Max Sharpe Portfolio\n",
       "CAGR                                0.34                  0.41\n",
       "Volatility                          0.25                  0.25\n",
       "Sharpe Ratio                        1.36                  1.57"
      ]
     },
     "execution_count": 13,
     "metadata": {},
     "output_type": "execute_result"
    }
   ],
   "source": [
    "compare = pd.DataFrame(data, index=['CAGR','Volatility','Sharpe Ratio'])\n",
    "compare"
   ]
  },
  {
   "cell_type": "code",
   "execution_count": null,
   "metadata": {},
   "outputs": [],
   "source": []
  }
 ],
 "metadata": {
  "kernelspec": {
   "display_name": "Python 3",
   "language": "python",
   "name": "python3"
  },
  "language_info": {
   "codemirror_mode": {
    "name": "ipython",
    "version": 3
   },
   "file_extension": ".py",
   "mimetype": "text/x-python",
   "name": "python",
   "nbconvert_exporter": "python",
   "pygments_lexer": "ipython3",
   "version": "3.9.1"
  }
 },
 "nbformat": 4,
 "nbformat_minor": 4
}
